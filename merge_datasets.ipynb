{
 "cells": [
  {
   "cell_type": "markdown",
   "metadata": {},
   "source": [
    "# Creating the dataset by merging many existing open source datasets"
   ]
  },
  {
   "cell_type": "markdown",
   "metadata": {},
   "source": [
    "### Converting RGBA images to RGB images\n",
    "- Some of the data was in rgba format hence a script conversion.py was included to convert all of them\n",
    "- currently not necessary as all conversions have already been done"
   ]
  },
  {
   "cell_type": "code",
   "execution_count": 1,
   "metadata": {},
   "outputs": [],
   "source": [
    "import importlib\n",
    "import conversion\n",
    "importlib.reload(conversion)\n",
    "from conversion import process_images\n",
    "\n",
    "# Set input and output directories\n",
    "input_dir = \"data\"\n",
    "output_dir = \"aksharam_data\"\n",
    "\n",
    "# Process images\n",
    "process_images(input_dir, output_dir)"
   ]
  },
  {
   "cell_type": "markdown",
   "metadata": {},
   "source": [
    "### Saving all images for .csv file from amritha_malChar_db as .png"
   ]
  },
  {
   "cell_type": "markdown",
   "metadata": {},
   "source": [
    "First we have to swap the 0 and 1 values from within the csv file to match our datasets"
   ]
  },
  {
   "cell_type": "code",
   "execution_count": 2,
   "metadata": {},
   "outputs": [
    {
     "name": "stdout",
     "output_type": "stream",
     "text": [
      "Modified CSV saved to train_values.csv\n",
      "Modified CSV saved to test_values.csv\n",
      "Modified CSV saved to valid_values.csv\n"
     ]
    }
   ],
   "source": [
    "# first swap the values of 0 and 1 within the file\n",
    "# first for the training data\n",
    "import csv\n",
    "def swap_0_and_1(input_file, output_file):\n",
    "    with open(input_file, mode='r') as infile, open(output_file, mode='w', newline='') as outfile:\n",
    "        reader = csv.reader(infile)\n",
    "        writer = csv.writer(outfile)\n",
    "        \n",
    "        for row in reader:\n",
    "            # Keep the first column as is\n",
    "            new_row = [row[0]]\n",
    "            \n",
    "            # Swap 0 and 1 in the remaining columns\n",
    "            for value in row[1:]:\n",
    "                if value == '0':\n",
    "                    new_row.append('1')\n",
    "                elif value == '1':\n",
    "                    new_row.append('0')\n",
    "                else:\n",
    "                    new_row.append(value)\n",
    "            \n",
    "            # Write the modified row to the output file\n",
    "            writer.writerow(new_row)\n",
    "\n",
    "# for train data\n",
    "swap_0_and_1('handwritten_data\\Handwritten_V2_train.csv', 'train_values.csv')\n",
    "print(f\"Modified CSV saved to {'train_values.csv'}\")\n",
    "\n",
    "# for test data\n",
    "swap_0_and_1('handwritten_data\\Handwritten_V2_test.csv', 'train_values.csv')\n",
    "print(f\"Modified CSV saved to {'test_values.csv'}\")\n",
    "\n",
    "# for validation data\n",
    "swap_0_and_1('handwritten_data\\Handwritten_V2_valid.csv', 'train_values.csv')\n",
    "print(f\"Modified CSV saved to {'valid_values.csv'}\")"
   ]
  },
  {
   "cell_type": "markdown",
   "metadata": {},
   "source": [
    "#### Displaying these images"
   ]
  },
  {
   "cell_type": "code",
   "execution_count": 3,
   "metadata": {},
   "outputs": [
    {
     "data": {
      "image/png": "[encoded data removed]",
      "text/plain": [
       "<Figure size 640x480 with 1 Axes>"
      ]
     },
     "metadata": {},
     "output_type": "display_data"
    },
    {
     "data": {
      "image/png": "[encoded data removed]",
      "text/plain": [
       "<Figure size 640x480 with 1 Axes>"
      ]
     },
     "metadata": {},
     "output_type": "display_data"
    },
    {
     "data": {
      "image/png": "[encoded data removed]",
      "text/plain": [
       "<Figure size 640x480 with 1 Axes>"
      ]
     },
     "metadata": {},
     "output_type": "display_data"
    },
    {
     "data": {
      "image/png": "[encoded data removed]",
      "text/plain": [
       "<Figure size 640x480 with 1 Axes>"
      ]
     },
     "metadata": {},
     "output_type": "display_data"
    },
    {
     "data": {
      "image/png": "[encoded data removed]",
      "text/plain": [
       "<Figure size 640x480 with 1 Axes>"
      ]
     },
     "metadata": {},
     "output_type": "display_data"
    }
   ],
   "source": [
    "import numpy as np\n",
    "import matplotlib.pyplot as plt\n",
    "\n",
    "# Load the data from the file\n",
    "file_path = 'train_values.csv'\n",
    "data = np.loadtxt(file_path, delimiter=',')\n",
    "\n",
    "# Assuming each row represents an image, and the first column is the label\n",
    "labels = data[:, 0]\n",
    "images = data[:, 1:]\n",
    "\n",
    "# Assuming the images are 28x28 pixels (since 784 = 28*28)\n",
    "image_size = 32\n",
    "\n",
    "# Function to display an image\n",
    "def display_image(pixels, label):\n",
    "    # Reshape the 1D array into a 2D array representing the image\n",
    "    image = pixels.reshape((image_size, image_size))\n",
    "    \n",
    "    # Display the image\n",
    "    plt.imshow(image, cmap='gray')\n",
    "    plt.title(f'Label: {int(label)}')\n",
    "    plt.axis('off')\n",
    "    plt.show()\n",
    "\n",
    "# Display each image\n",
    "for i in range(5):\n",
    "    display_image(images[i], labels[i])"
   ]
  },
  {
   "cell_type": "markdown",
   "metadata": {},
   "source": [
    "All images are in 32x32px format while images from other datasets are in 300x300px format"
   ]
  },
  {
   "cell_type": "markdown",
   "metadata": {},
   "source": [
    "#### Now saving these pixel values as images in output folder"
   ]
  },
  {
   "cell_type": "code",
   "execution_count": 4,
   "metadata": {},
   "outputs": [
    {
     "name": "stdout",
     "output_type": "stream",
     "text": [
      "Reading CSV file...\n",
      "Processing images...\n",
      "Processed 100 images\n",
      "Processed 200 images\n",
      "Processed 300 images\n",
      "Processed 400 images\n",
      "Processed 500 images\n",
      "Processed 600 images\n",
      "Processed 700 images\n",
      "Processed 800 images\n",
      "Processed 900 images\n",
      "Processed 1000 images\n",
      "Processed 1100 images\n",
      "Processed 1200 images\n",
      "Processed 1300 images\n",
      "Processed 1400 images\n",
      "Processed 1500 images\n",
      "Processed 1600 images\n",
      "Processed 1700 images\n",
      "Processed 1800 images\n",
      "Processed 1900 images\n",
      "Processed 2000 images\n",
      "Processed 2100 images\n",
      "Processed 2200 images\n",
      "Processed 2300 images\n",
      "Processed 2400 images\n",
      "Processed 2500 images\n",
      "Processed 2600 images\n",
      "Processed 2700 images\n",
      "Processed 2800 images\n",
      "Processed 2900 images\n",
      "Processed 3000 images\n",
      "Processed 3100 images\n",
      "Processed 3200 images\n",
      "Processed 3300 images\n",
      "Processed 3400 images\n",
      "Processed 3500 images\n",
      "Processed 3600 images\n",
      "Processed 3700 images\n",
      "Processed 3800 images\n",
      "Processed 3900 images\n",
      "Processed 4000 images\n",
      "Processed 4100 images\n",
      "Processed 4200 images\n",
      "Processed 4300 images\n",
      "Processed 4400 images\n",
      "Processed 4500 images\n",
      "Processed 4600 images\n",
      "Processed 4700 images\n",
      "Processed 4800 images\n",
      "Processed 4900 images\n",
      "Processed 5000 images\n",
      "Processed 5100 images\n",
      "Processed 5200 images\n",
      "Processed 5300 images\n",
      "Processed 5400 images\n",
      "Processed 5500 images\n",
      "Processed 5600 images\n",
      "Processed 5700 images\n",
      "Conversion complete!\n",
      "Reading CSV file...\n",
      "Processing images...\n",
      "Processed 100 images\n",
      "Processed 200 images\n",
      "Processed 300 images\n",
      "Processed 400 images\n",
      "Processed 500 images\n",
      "Processed 600 images\n",
      "Processed 700 images\n",
      "Processed 800 images\n",
      "Processed 900 images\n",
      "Processed 1000 images\n",
      "Processed 1100 images\n",
      "Processed 1200 images\n",
      "Processed 1300 images\n",
      "Processed 1400 images\n",
      "Processed 1500 images\n",
      "Processed 1600 images\n",
      "Processed 1700 images\n",
      "Processed 1800 images\n",
      "Processed 1900 images\n",
      "Processed 2000 images\n",
      "Processed 2100 images\n",
      "Processed 2200 images\n",
      "Processed 2300 images\n",
      "Processed 2400 images\n",
      "Processed 2500 images\n",
      "Processed 2600 images\n",
      "Processed 2700 images\n",
      "Processed 2800 images\n",
      "Processed 2900 images\n",
      "Processed 3000 images\n",
      "Processed 3100 images\n",
      "Processed 3200 images\n",
      "Processed 3300 images\n",
      "Processed 3400 images\n",
      "Processed 3500 images\n",
      "Processed 3600 images\n",
      "Processed 3700 images\n",
      "Processed 3800 images\n",
      "Processed 3900 images\n",
      "Processed 4000 images\n",
      "Processed 4100 images\n",
      "Processed 4200 images\n",
      "Processed 4300 images\n",
      "Processed 4400 images\n",
      "Processed 4500 images\n",
      "Processed 4600 images\n",
      "Processed 4700 images\n",
      "Processed 4800 images\n",
      "Processed 4900 images\n",
      "Processed 5000 images\n",
      "Processed 5100 images\n",
      "Processed 5200 images\n",
      "Processed 5300 images\n",
      "Processed 5400 images\n",
      "Processed 5500 images\n",
      "Processed 5600 images\n",
      "Processed 5700 images\n",
      "Processed 5800 images\n",
      "Processed 5900 images\n",
      "Processed 6000 images\n",
      "Processed 6100 images\n",
      "Processed 6200 images\n",
      "Processed 6300 images\n",
      "Conversion complete!\n",
      "Reading CSV file...\n",
      "Processing images...\n",
      "Processed 100 images\n",
      "Processed 200 images\n",
      "Processed 300 images\n",
      "Processed 400 images\n",
      "Processed 500 images\n",
      "Processed 600 images\n",
      "Processed 700 images\n",
      "Processed 800 images\n",
      "Processed 900 images\n",
      "Processed 1000 images\n",
      "Processed 1100 images\n",
      "Processed 1200 images\n",
      "Processed 1300 images\n",
      "Processed 1400 images\n",
      "Processed 1500 images\n",
      "Processed 1600 images\n",
      "Processed 1700 images\n",
      "Processed 1800 images\n",
      "Processed 1900 images\n",
      "Processed 2000 images\n",
      "Processed 2100 images\n",
      "Processed 2200 images\n",
      "Processed 2300 images\n",
      "Processed 2400 images\n",
      "Processed 2500 images\n",
      "Processed 2600 images\n",
      "Processed 2700 images\n",
      "Processed 2800 images\n",
      "Processed 2900 images\n",
      "Processed 3000 images\n",
      "Processed 3100 images\n",
      "Processed 3200 images\n",
      "Processed 3300 images\n",
      "Processed 3400 images\n",
      "Processed 3500 images\n",
      "Processed 3600 images\n",
      "Processed 3700 images\n",
      "Processed 3800 images\n",
      "Processed 3900 images\n",
      "Processed 4000 images\n",
      "Processed 4100 images\n",
      "Processed 4200 images\n",
      "Processed 4300 images\n",
      "Processed 4400 images\n",
      "Processed 4500 images\n",
      "Processed 4600 images\n",
      "Processed 4700 images\n",
      "Processed 4800 images\n",
      "Processed 4900 images\n",
      "Processed 5000 images\n",
      "Processed 5100 images\n",
      "Processed 5200 images\n",
      "Processed 5300 images\n",
      "Processed 5400 images\n",
      "Processed 5500 images\n",
      "Processed 5600 images\n",
      "Processed 5700 images\n",
      "Conversion complete!\n"
     ]
    }
   ],
   "source": [
    "import pandas as pd\n",
    "import numpy as np\n",
    "from PIL import Image\n",
    "import os\n",
    "\n",
    "def normalize_pixels(pixels):\n",
    "    if np.max(pixels) <= 255 and np.min(pixels) >= 0 and pixels.dtype == np.uint8:\n",
    "        return pixels\n",
    "    pixels_norm = (pixels - np.min(pixels)) / (np.max(pixels) - np.min(pixels))\n",
    "    return (pixels_norm * 255).astype(np.uint8)\n",
    "\n",
    "def csv_to_images(csv_path, image_size=(28, 28), output_dir='output_images'):\n",
    "    print(\"Reading CSV file...\")\n",
    "    df = pd.read_csv(csv_path)\n",
    "    label_column = df.columns[0]\n",
    "    \n",
    "    if not os.path.exists(output_dir):\n",
    "        os.makedirs(output_dir)\n",
    "    \n",
    "    print(\"Processing images...\")\n",
    "    for index, row in df.iterrows():\n",
    "        label = str(row[label_column])\n",
    "        pixels = row.iloc[1:].values\n",
    "        \n",
    "        label_dir = os.path.join(output_dir, label)\n",
    "        if not os.path.exists(label_dir):\n",
    "            os.makedirs(label_dir)\n",
    "        \n",
    "        pixels = normalize_pixels(pixels)\n",
    "        \n",
    "        try:\n",
    "            image_array = pixels.reshape(image_size)\n",
    "        except ValueError:\n",
    "            print(f\"Error reshaping row {index}\")\n",
    "            continue\n",
    "        \n",
    "        # Convert grayscale to RGB by stacking the same values in three channels\n",
    "        image = Image.fromarray(np.stack([image_array] * 3, axis=-1), mode='RGB')\n",
    "        image = image.rotate(-90, expand=True)\n",
    "        \n",
    "        # Mirror (flip horizontally)\n",
    "        image = image.transpose(Image.FLIP_LEFT_RIGHT)\n",
    "        \n",
    "        image_path = os.path.join(label_dir, f'image_{index}.png')\n",
    "        image.save(image_path, format='PNG', compress_level=0)  # Lossless PNG\n",
    "        \n",
    "        if (index + 1) % 100 == 0:\n",
    "            print(f\"Processed {index + 1} images\")\n",
    "    \n",
    "    print(\"Conversion complete!\")\n",
    "\n",
    "if __name__ == \"__main__\":\n",
    "    image_size = (32, 32)\n",
    "    csv_to_images(\"train_values.csv\", image_size=image_size)\n",
    "    csv_to_images(\"test_values.csv\", image_size=image_size)\n",
    "    csv_to_images(\"valid_values.csv\", image_size=image_size)\n"
   ]
  },
  {
   "cell_type": "markdown",
   "metadata": {},
   "source": [
    "#### **Now I manually go through each folder and sort out the data accordingly**"
   ]
  }
 ],
 "metadata": {
  "kernelspec": {
   "display_name": "malenv",
   "language": "python",
   "name": "python3"
  },
  "language_info": {
   "codemirror_mode": {
    "name": "ipython",
    "version": 3
   },
   "file_extension": ".py",
   "mimetype": "text/x-python",
   "name": "python",
   "nbconvert_exporter": "python",
   "pygments_lexer": "ipython3",
   "version": "3.7.12"
  }
 },
 "nbformat": 4,
 "nbformat_minor": 2
}
