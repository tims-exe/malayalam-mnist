{
 "cells": [
  {
   "cell_type": "markdown",
   "metadata": {},
   "source": [
    "## Importing necessary libraries"
   ]
  },
  {
   "cell_type": "code",
   "execution_count": 1,
   "metadata": {},
   "outputs": [],
   "source": [
    "import os\n",
    "import torch\n",
    "import torchvision\n",
    "from torchvision import datasets, transforms\n",
    "from torch.utils.data import DataLoader, Dataset\n",
    "import torch.nn as nn\n",
    "import torch.nn.functional as F\n",
    "import numpy as np\n",
    "from torch.utils.data import random_split\n",
    "import matplotlib.pyplot as plt\n",
    "from PIL import Image\n",
    "import pandas as pd"
   ]
  },
  {
   "cell_type": "code",
   "execution_count": 3,
   "metadata": {},
   "outputs": [],
   "source": [
    "from torch.utils.tensorboard import SummaryWriter\n",
    "tb_writer = SummaryWriter(\"runs/malayalam handwriting classification model - 3\")"
   ]
  },
  {
   "cell_type": "code",
   "execution_count": 2,
   "metadata": {},
   "outputs": [
    {
     "name": "stdout",
     "output_type": "stream",
     "text": [
      "cpu\n"
     ]
    }
   ],
   "source": [
    "device = torch.device(\"cuda\" if torch.cuda.is_available() else \"cpu\")\n",
    "print(device)"
   ]
  },
  {
   "cell_type": "markdown",
   "metadata": {},
   "source": [
    "## Checking the datsaset"
   ]
  },
  {
   "cell_type": "code",
   "execution_count": 3,
   "metadata": {},
   "outputs": [
    {
     "name": "stdout",
     "output_type": "stream",
     "text": [
      "Image mode: RGB\n",
      "Image size: (32, 32)\n",
      "Pixel range: 0 to 255\n"
     ]
    }
   ],
   "source": [
    "# Path to a sample image\n",
    "sample_img_path = \"symbol_data/0/image_0.png\"\n",
    "\n",
    "# Open the image\n",
    "img = Image.open(sample_img_path)\n",
    "print(f\"Image mode: {img.mode}\")  # Should be \"RGB\" or \"RGBA\n",
    "print(f\"Image size: {img.size}\")\n",
    "\n",
    "# Convert to NumPy array and inspect pixel values\n",
    "img_array = np.array(img)\n",
    "print(f\"Pixel range: {img_array.min()} to {img_array.max()}\")\n"
   ]
  },
  {
   "cell_type": "code",
   "execution_count": 4,
   "metadata": {},
   "outputs": [
    {
     "name": "stdout",
     "output_type": "stream",
     "text": [
      "Min pixel value: 0\n",
      "Max pixel value: 255\n",
      "Mean pixel value: 177.0556640625\n"
     ]
    }
   ],
   "source": [
    "# Load a single image from your dataset\n",
    "image_path = \"symbol_data/0/image_0.png\"  # Adjust this path based on your dataset\n",
    "image = Image.open(image_path)\n",
    "\n",
    "# Convert the image to a numpy array\n",
    "image_np = np.array(image)\n",
    "\n",
    "# Display the pixel values of the image\n",
    "print(f\"Min pixel value: {image_np.min()}\")\n",
    "print(f\"Max pixel value: {image_np.max()}\")\n",
    "print(f\"Mean pixel value: {image_np.mean()}\")\n"
   ]
  },
  {
   "cell_type": "markdown",
   "metadata": {},
   "source": [
    "### Checking how many images are present per letter"
   ]
  },
  {
   "cell_type": "code",
   "execution_count": 6,
   "metadata": {},
   "outputs": [
    {
     "name": "stdout",
     "output_type": "stream",
     "text": [
      "['0', '1', '10', '2', '3', '4', '5', '6', '7', '8', '9']\n",
      "Label '0' has 179 images.\n",
      "Label '1' has 421 images.\n",
      "Label '10' has 256 images.\n",
      "Label '2' has 258 images.\n",
      "Label '3' has 261 images.\n",
      "Label '4' has 242 images.\n",
      "Label '5' has 244 images.\n",
      "Label '6' has 237 images.\n",
      "Label '7' has 264 images.\n",
      "Label '8' has 278 images.\n",
      "Label '9' has 335 images.\n",
      "\n",
      "Total images: 2975\n"
     ]
    }
   ],
   "source": [
    "def count_images_in_folders(base_dir):\n",
    "    label_counts = {}\n",
    "\n",
    "    print(os.listdir(base_dir))\n",
    "    for label in os.listdir(base_dir):\n",
    "        label_path = os.path.join(base_dir, label)\n",
    "\n",
    "        if os.path.isdir(label_path):  # Ensure it's a folder\n",
    "            num_images = len([f for f in os.listdir(label_path) if os.path.isfile(os.path.join(label_path, f))])\n",
    "            label_counts[label] = num_images\n",
    "\n",
    "    return label_counts\n",
    "\n",
    "# Set the base directory\n",
    "base_directory = \"symbol_data\"\n",
    "\n",
    "# Get image counts per label\n",
    "image_counts = count_images_in_folders(base_directory)\n",
    "\n",
    "# Print results\n",
    "for label, count in image_counts.items():\n",
    "    print(f\"Label '{label}' has {count} images.\")\n",
    "\n",
    "# Total images across all folders\n",
    "print(f\"\\nTotal images: {sum(image_counts.values())}\")\n"
   ]
  },
  {
   "cell_type": "markdown",
   "metadata": {},
   "source": [
    "### Creating the Custom dataset loader"
   ]
  },
  {
   "cell_type": "code",
   "execution_count": 7,
   "metadata": {},
   "outputs": [],
   "source": [
    "class MalHandwritingDataset(Dataset):\n",
    "    def __init__(self, csv_file, root_dir, transform=None):\n",
    "        self.annotations = pd.read_csv(csv_file)\n",
    "        self.root_dir = root_dir\n",
    "        self.transform = transform\n",
    "        \n",
    "    def __len__(self):\n",
    "        return len(self.annotations)\n",
    "    \n",
    "    def __getitem__(self, index):\n",
    "        img_path = os.path.join(self.root_dir, self.annotations.iloc[index, 0])\n",
    "        image = Image.open(img_path)\n",
    "        label = torch.tensor(int(self.annotations.iloc[index, 1]))\n",
    "        \n",
    "        if self.transform:\n",
    "            image = self.transform(image)\n",
    "            \n",
    "        return (image, label)"
   ]
  },
  {
   "cell_type": "markdown",
   "metadata": {},
   "source": [
    "### The final transforms\n",
    "#### Loading the dataset and applying transforms"
   ]
  },
  {
   "cell_type": "markdown",
   "metadata": {},
   "source": [
    "Note that transforms don't resize images that are already 32x32 dimensions, so the images from the csv file go through untouched"
   ]
  },
  {
   "cell_type": "code",
   "execution_count": 8,
   "metadata": {},
   "outputs": [],
   "source": [
    "root_dir = \"symbol_data\""
   ]
  },
  {
   "cell_type": "code",
   "execution_count": 9,
   "metadata": {},
   "outputs": [],
   "source": [
    "def load_data(data_augmentation=False):\n",
    "    \n",
    "    transform_original = transforms.Compose([\n",
    "        transforms.Resize((32, 32)),\n",
    "        transforms.ToTensor()\n",
    "    ])\n",
    "    \n",
    "    transform_augmented = transforms.Compose([\n",
    "        transforms.RandomHorizontalFlip(),\n",
    "        transforms.RandomRotation(10),\n",
    "        transforms.ColorJitter(\n",
    "        brightness=0.5,  # Randomly change brightness\n",
    "        contrast=0.5,   # Randomly change contrast\n",
    "        saturation=0.5, # Randomly change saturation\n",
    "        hue=0.1         # Randomly change hue\n",
    "    ),\n",
    "        transforms.Resize((32, 32)),\n",
    "        transforms.ToTensor()\n",
    "    ])\n",
    "    \n",
    "    if data_augmentation:\n",
    "        original_dataset = MalHandwritingDataset(\n",
    "                                csv_file=\"labels_symbols.csv\",\n",
    "                                root_dir=root_dir,\n",
    "                                transform=transform_original)\n",
    "        \n",
    "        augmented_dataset = MalHandwritingDataset(\n",
    "                                csv_file=\"labels_symbols.csv\",\n",
    "                                root_dir=root_dir,\n",
    "                                transform=transform_augmented)\n",
    "        \n",
    "        dataset = torch.utils.data.ConcatDataset([original_dataset, augmented_dataset])\n",
    "    else:\n",
    "        dataset = MalHandwritingDataset(\n",
    "                            csv_file=\"labels_symbols.csv\",\n",
    "                            root_dir=root_dir,\n",
    "                            transform=transform_original)\n",
    "        \n",
    "    # Split dataset into training and testing\n",
    "    train_size = int(0.8 * len(dataset))\n",
    "    test_size = len(dataset) - train_size\n",
    "    train_dataset, test_dataset = random_split(dataset, [train_size, test_size])\n",
    "\n",
    "    # Create DataLoaders\n",
    "    train_loader = DataLoader(dataset=train_dataset, batch_size=32, shuffle=True)\n",
    "    test_loader = DataLoader(dataset=test_dataset, batch_size=32, shuffle=False)\n",
    "    \n",
    "    return train_loader, test_loader\n",
    "\n",
    "    "
   ]
  },
  {
   "cell_type": "code",
   "execution_count": 10,
   "metadata": {},
   "outputs": [],
   "source": [
    "train_loader, test_loader = load_data(data_augmentation=False)"
   ]
  },
  {
   "cell_type": "code",
   "execution_count": 11,
   "metadata": {},
   "outputs": [
    {
     "name": "stdout",
     "output_type": "stream",
     "text": [
      "Batch size: torch.Size([32, 3, 32, 32])\n",
      "Labels: tensor([ 3,  8,  0,  6,  3,  6,  4,  1,  5,  8, 10,  3,  8,  3,  8,  5,  6,  4,\n",
      "         1,  1,  5,  3,  9,  6,  7,  1,  9,  3,  8,  6,  6,  1])\n",
      "32\n"
     ]
    }
   ],
   "source": [
    "# Check the first batch of training data\n",
    "data_iter = iter(train_loader)\n",
    "images, labels = next(data_iter)\n",
    "\n",
    "print(f\"Batch size: {images.shape}\")  # e.g., torch.Size([32, 3, 32, 32])\n",
    "print(f\"Labels: {labels}\")\n",
    "print(len(labels))\n"
   ]
  },
  {
   "cell_type": "markdown",
   "metadata": {},
   "source": [
    "#### displaying pixel values"
   ]
  },
  {
   "cell_type": "code",
   "execution_count": 12,
   "metadata": {},
   "outputs": [
    {
     "name": "stdout",
     "output_type": "stream",
     "text": [
      "Min pixel value: 0.0\n",
      "Max pixel value: 1.0\n",
      "Mean Pixel Value: 0.892578125\n"
     ]
    }
   ],
   "source": [
    "# Check the min and max pixel values\n",
    "print(f'Min pixel value: {images[0][0].min().item()}')\n",
    "print(f'Max pixel value: {images[0][0].max().item()}')\n",
    "print(f\"Mean Pixel Value: {images[0][0].mean().item()}\")"
   ]
  },
  {
   "cell_type": "markdown",
   "metadata": {},
   "source": [
    "#### Visualizing one batch of images"
   ]
  },
  {
   "cell_type": "code",
   "execution_count": 13,
   "metadata": {},
   "outputs": [
    {
     "data": {
      "text/plain": [
       "(-0.5, 273.5, 137.5, -0.5)"
      ]
     },
     "execution_count": 13,
     "metadata": {},
     "output_type": "execute_result"
    },
    {
     "data": {
      "image/png": "[encoded data removed]",
      "text/plain": [
       "<Figure size 640x480 with 1 Axes>"
      ]
     },
     "metadata": {},
     "output_type": "display_data"
    }
   ],
   "source": [
    "# Create a grid of images\n",
    "img_grid = torchvision.utils.make_grid(images, nrow=8)  # 8 images per row\n",
    "\n",
    "# Convert the grid to a NumPy array and transpose the dimensions\n",
    "np_grid = img_grid.numpy().clip(0,1)\n",
    "\n",
    "np_grid = np_grid.transpose((1, 2, 0))\n",
    "\n",
    "# Display the grid of images\n",
    "plt.imshow(np_grid)\n",
    "plt.axis('off')  # Hide the axis\n",
    "# Add the grid of images to TensorBoard\n",
    "# tb_writer.add_image(\"MalHandwriting\", img_grid)\n",
    "# # Close the writer\n",
    "# tb_writer.close()\n"
   ]
  },
  {
   "cell_type": "code",
   "execution_count": 14,
   "metadata": {},
   "outputs": [
    {
     "name": "stdout",
     "output_type": "stream",
     "text": [
      "11\n"
     ]
    }
   ],
   "source": [
    "num_classes = len(os.listdir(\"symbol_data\"))\n",
    "print(num_classes)"
   ]
  },
  {
   "cell_type": "markdown",
   "metadata": {},
   "source": [
    "## Model Architecture"
   ]
  },
  {
   "cell_type": "code",
   "execution_count": 21,
   "metadata": {},
   "outputs": [],
   "source": [
    "# Hyper-parameters\n",
    "num_epochs = 5\n",
    "batch_size = 32\n",
    "# 6000 images in dataset, 80% for training -> 4800 images so 4800/32 = 150 iterations per epoch\n",
    "learning_rate = 0.0001"
   ]
  },
  {
   "cell_type": "code",
   "execution_count": 16,
   "metadata": {},
   "outputs": [],
   "source": [
    "# implement the CNN\n",
    "\n",
    "class ConvNet(nn.Module):\n",
    "    def __init__(self):\n",
    "        super(ConvNet, self).__init__()\n",
    "        \n",
    "        self.conv1 = nn.Conv2d(3, 4, 5)\n",
    "        self.pool = nn.AvgPool2d(2, 2)\n",
    "        \n",
    "        self.conv2 = nn.Conv2d(4, 8, 5)\n",
    "        self.pool = nn.AvgPool2d(2, 2)\n",
    "        \n",
    "        self.fc1 = nn.Linear(8 * 5 * 5, 120)\n",
    "        # 16 * 5 * 5 is the size of the input to the fully connected layer\n",
    "        self.fc2 = nn.Linear(120, 60)\n",
    "        self.fc3 = nn.Linear(60, num_classes)\n",
    "    \n",
    "    def forward(self, x):\n",
    "        \n",
    "        # first conv2d layer\n",
    "        x = self.pool(F.relu(self.conv1(x)))\n",
    "\n",
    "        # second conv2d layer\n",
    "        x = self.pool(F.relu(self.conv2(x)))\n",
    "        \n",
    "        # flatten the tensor\n",
    "        x = x.view(-1, 8 * 5 * 5)\n",
    "        \n",
    "        \n",
    "        # first fully connected layer\n",
    "        x = F.relu(self.fc1(x))\n",
    "        \n",
    "        \n",
    "        # second fully connected layer  \n",
    "        x = F.relu(self.fc2(x))\n",
    "        \n",
    "        \n",
    "        # third fully connected layer\n",
    "        x = self.fc3(x)\n",
    "        # last is softmax layer but that is done by optimizer\n",
    "        \n",
    "        return x\n",
    "        "
   ]
  },
  {
   "cell_type": "code",
   "execution_count": 17,
   "metadata": {},
   "outputs": [],
   "source": [
    "model = ConvNet()\n",
    "# Move the model to the GPU\n",
    "model = model.to(device)"
   ]
  },
  {
   "cell_type": "code",
   "execution_count": 18,
   "metadata": {},
   "outputs": [],
   "source": [
    "criterion = nn.CrossEntropyLoss()\n",
    "optimizer = torch.optim.Adam(model.parameters(), lr=learning_rate)"
   ]
  },
  {
   "cell_type": "code",
   "execution_count": 46,
   "metadata": {},
   "outputs": [],
   "source": [
    "tb_writer.add_graph(model, images)\n",
    "tb_writer.close()"
   ]
  },
  {
   "cell_type": "code",
   "execution_count": 22,
   "metadata": {},
   "outputs": [
    {
     "name": "stdout",
     "output_type": "stream",
     "text": [
      "Epoch [1/5], Step [38/75], Loss: 0.9700855612754822\n",
      "Epoch [2/5], Step [38/75], Loss: 0.9724583029747009\n",
      "Epoch [3/5], Step [38/75], Loss: 0.5840742588043213\n",
      "Epoch [4/5], Step [38/75], Loss: 0.7078614830970764\n",
      "Epoch [5/5], Step [38/75], Loss: 0.5781959295272827\n",
      "Finished Training\n"
     ]
    }
   ],
   "source": [
    "n_total_steps = len(train_loader)\n",
    "best_loss = np.inf\n",
    "\n",
    "for epoch in range(num_epochs):\n",
    "    running_loss = 0.0\n",
    "    correct = 0\n",
    "    total = 0\n",
    "    \n",
    "    for i, (images, labels) in enumerate(train_loader):\n",
    "        # original shape: [32,3,64,64] = 32,3,1024\n",
    "        # input_layer: 3 input channels, 6 output channels, 5 kernel size\n",
    "        \n",
    "        images = images.to(device)\n",
    "        labels = labels.to(device)\n",
    "        \n",
    "        \n",
    "        # forward pass\n",
    "        output = model(images)\n",
    "        loss = criterion(output, labels)\n",
    "        \n",
    "        # backward pass and optimize\n",
    "        optimizer.zero_grad()\n",
    "        loss.backward()\n",
    "        optimizer.step()\n",
    "\n",
    "        # Accumulate loss\n",
    "        running_loss += loss.item()\n",
    "        \n",
    "        # # Calculate accuracy\n",
    "        # _, predicted = torch.max(output.data, 1)\n",
    "        # total += labels.size(0)\n",
    "        # correct += (predicted == labels).sum().item()\n",
    "        \n",
    "        # Log the loss to TensorBoard\n",
    "        #tb_writer.add_scalar('Training Loss', loss.item(), epoch * n_total_steps + i)\n",
    "    \n",
    "        if i == n_total_steps//2:\n",
    "            print(f'Epoch [{epoch+1}/{num_epochs}], Step [{i+1}/{n_total_steps}], Loss: {loss.item()}')\n",
    "            # Save the model if the current val_loss is the lowest\n",
    "        if loss.item() < best_loss:\n",
    "            best_loss = loss.item()\n",
    "            torch.save(model.state_dict(), 'mal_model_symbols.pth')\n",
    "        \n",
    "    # Calculate and log average loss and accuracy for the epoch\n",
    "    epoch_loss = running_loss / n_total_steps\n",
    "    #epoch_accuracy = 100 * correct / total\n",
    "    #tb_writer.add_scalar('Epoch Loss', epoch_loss, epoch)\n",
    "    #tb_writer.add_scalar('Epoch Accuracy', epoch_accuracy, epoch)\n",
    "            \n",
    "print('Finished Training')\n",
    "#tb_writer.close()"
   ]
  },
  {
   "cell_type": "code",
   "execution_count": 23,
   "metadata": {},
   "outputs": [
    {
     "name": "stdout",
     "output_type": "stream",
     "text": [
      "['0', '1', '10', '2', '3', '4', '5', '6', '7', '8', '9']\n"
     ]
    }
   ],
   "source": [
    "classes = [i for i in os.listdir(\"symbol_data\")]\n",
    "print(classes)"
   ]
  },
  {
   "cell_type": "code",
   "execution_count": 26,
   "metadata": {},
   "outputs": [
    {
     "name": "stdout",
     "output_type": "stream",
     "text": [
      "Accuracy of the network: 81.85 %\n",
      "Accuracy of 0: 92.11 %\n",
      "Accuracy of 1: 95.45 %\n",
      "Accuracy of 10: 91.84 %\n",
      "Accuracy of 2: 91.38 %\n",
      "Accuracy of 3: 60.38 %\n",
      "Accuracy of 4: 31.11 %\n",
      "Accuracy of 5: 76.60 %\n",
      "Accuracy of 6: 86.67 %\n",
      "Accuracy of 7: 92.73 %\n",
      "Accuracy of 8: 88.89 %\n",
      "Accuracy of 9: 80.56 %\n",
      "\n",
      "Confusion Matrix:\n",
      "[[35  0  0  0  0  0  1  2  0  0  0]\n",
      " [ 0 84  0  4  0  0  0  0  0  0  0]\n",
      " [ 0  0 45  0  0  0  1  0  2  1  0]\n",
      " [ 0  3  0 53  1  0  0  0  0  0  1]\n",
      " [ 0  3  0 12 32  0  1  0  0  0  5]\n",
      " [ 0  0  0  0  0 14 19  9  0  3  0]\n",
      " [ 0  0  0  0  0  2 36  8  1  0  0]\n",
      " [ 0  0  0  1  0  2  3 39  0  0  0]\n",
      " [ 1  0  0  0  0  0  0  0 51  2  1]\n",
      " [ 0  0  0  0  0  0  3  0  1 40  1]\n",
      " [ 0  5  0  3  1  0  0  0  5  0 58]]\n"
     ]
    },
    {
     "data": {
      "image/png": "[encoded data removed]",
      "text/plain": [
       "<Figure size 800x600 with 2 Axes>"
      ]
     },
     "metadata": {},
     "output_type": "display_data"
    }
   ],
   "source": [
    "import torch\n",
    "import numpy as np\n",
    "import seaborn as sns\n",
    "import matplotlib.pyplot as plt\n",
    "from sklearn.metrics import confusion_matrix\n",
    "\n",
    "num_classes = 11  # Define number of classes\n",
    "\n",
    "with torch.no_grad():\n",
    "    n_samples = 0\n",
    "    n_correct = 0\n",
    "    n_class_correct = [0 for i in range(num_classes)]\n",
    "    n_class_samples = [0 for i in range(num_classes)]\n",
    "\n",
    "    # Initialize confusion matrix\n",
    "    confusion_mat = np.zeros((num_classes, num_classes), dtype=int)\n",
    "\n",
    "    for images, labels in test_loader:\n",
    "        \n",
    "        images = images.to(device)\n",
    "        labels = labels.to(device)\n",
    "        \n",
    "        outputs = model(images)\n",
    "        \n",
    "        _, predicted = torch.max(outputs, 1)\n",
    "        n_samples += labels.size(0)\n",
    "        n_correct += (predicted == labels).sum().item()\n",
    "\n",
    "        for i in range(len(labels)):\n",
    "            label = labels[i].item()\n",
    "            pred = predicted[i].item()\n",
    "            \n",
    "            # Update class-wise accuracy tracking\n",
    "            if label == pred:\n",
    "                n_class_correct[label] += 1\n",
    "            n_class_samples[label] += 1\n",
    "            \n",
    "            # Update confusion matrix\n",
    "            confusion_mat[label][pred] += 1\n",
    "\n",
    "    acc = 100.0 * n_correct / n_samples\n",
    "    print(f'Accuracy of the network: {acc:.2f} %')\n",
    "    #tb_writer.add_scalar('Accuracy/Overall', acc)\n",
    "\n",
    "    for i in range(num_classes):  # Iterate over the range of the number of classes\n",
    "        if n_class_samples[i] > 0:\n",
    "            class_acc = 100.0 * n_class_correct[i] / n_class_samples[i]\n",
    "            print(f'Accuracy of {classes[i]}: {class_acc:.2f} %')\n",
    "            #tb_writer.add_scalar(f'Accuracy/{classes[i]}', class_acc)\n",
    "        else:\n",
    "            print(f'Accuracy of {classes[i]}: N/A (no samples)')\n",
    "\n",
    "    # Print Confusion Matrix\n",
    "    print(\"\\nConfusion Matrix:\")\n",
    "    print(confusion_mat)\n",
    "\n",
    "    # Plot Confusion Matrix\n",
    "    plt.figure(figsize=(8, 6))\n",
    "    sns.heatmap(confusion_mat, annot=True, fmt='d', cmap='Blues', xticklabels=classes, yticklabels=classes)\n",
    "    plt.xlabel(\"Predicted\")\n",
    "    plt.ylabel(\"Actual\")\n",
    "    plt.title(\"Confusion Matrix\")\n",
    "    plt.show()\n",
    "\n",
    "#tb_writer.close()\n"
   ]
  },
  {
   "cell_type": "markdown",
   "metadata": {},
   "source": [
    "### Testing one one new prediction"
   ]
  },
  {
   "cell_type": "code",
   "execution_count": null,
   "metadata": {},
   "outputs": [
    {
     "name": "stdout",
     "output_type": "stream",
     "text": [
      "CSV file saved at: labels.csv\n"
     ]
    }
   ],
   "source": [
    "import csv\n",
    "\n",
    "# Path to save the CSV file\n",
    "csv_file_path = \"labels.csv\"\n",
    "\n",
    "# Write the dictionary to a CSV file\n",
    "with open(csv_file_path, mode='w', newline='',encoding='utf-8') as csv_file:\n",
    "    writer = csv.writer(csv_file)\n",
    "    writer.writerow([\"Image Name\", \"Class Label\"])  # Header row\n",
    "    for image_name, class_label in image_label_dict.items():\n",
    "        writer.writerow([image_name, class_label])\n",
    "\n",
    "print(f\"CSV file saved at: {csv_file_path}\")"
   ]
  },
  {
   "cell_type": "code",
   "execution_count": 42,
   "metadata": {},
   "outputs": [
    {
     "data": {
      "text/html": [
       "<div>\n",
       "<style scoped>\n",
       "    .dataframe tbody tr th:only-of-type {\n",
       "        vertical-align: middle;\n",
       "    }\n",
       "\n",
       "    .dataframe tbody tr th {\n",
       "        vertical-align: top;\n",
       "    }\n",
       "\n",
       "    .dataframe thead th {\n",
       "        text-align: right;\n",
       "    }\n",
       "</style>\n",
       "<table border=\"1\" class=\"dataframe\">\n",
       "  <thead>\n",
       "    <tr style=\"text-align: right;\">\n",
       "      <th></th>\n",
       "      <th>image</th>\n",
       "      <th>label</th>\n",
       "    </tr>\n",
       "  </thead>\n",
       "  <tbody>\n",
       "    <tr>\n",
       "      <th>0</th>\n",
       "      <td>അ/100.png</td>\n",
       "      <td>0</td>\n",
       "    </tr>\n",
       "    <tr>\n",
       "      <th>1</th>\n",
       "      <td>അ/101.png</td>\n",
       "      <td>0</td>\n",
       "    </tr>\n",
       "    <tr>\n",
       "      <th>2</th>\n",
       "      <td>അ/102.png</td>\n",
       "      <td>0</td>\n",
       "    </tr>\n",
       "    <tr>\n",
       "      <th>3</th>\n",
       "      <td>അ/103.png</td>\n",
       "      <td>0</td>\n",
       "    </tr>\n",
       "    <tr>\n",
       "      <th>4</th>\n",
       "      <td>അ/104.png</td>\n",
       "      <td>0</td>\n",
       "    </tr>\n",
       "  </tbody>\n",
       "</table>\n",
       "</div>"
      ],
      "text/plain": [
       "       image  label\n",
       "0  അ/100.png      0\n",
       "1  അ/101.png      0\n",
       "2  അ/102.png      0\n",
       "3  അ/103.png      0\n",
       "4  അ/104.png      0"
      ]
     },
     "execution_count": 42,
     "metadata": {},
     "output_type": "execute_result"
    }
   ],
   "source": [
    "import pandas as pd\n",
    "df =pd.read_csv(\"labels.csv\")\n",
    "df.rename(columns={'Image Name': 'image', 'Class Label': 'label'}, inplace=True)\n",
    "df.head()"
   ]
  },
  {
   "cell_type": "code",
   "execution_count": null,
   "metadata": {},
   "outputs": [],
   "source": [
    "# Load the state dictionary\n",
    "model.load_state_dict(torch.load('mal_model.pth', map_location=torch.device('cpu')))\n",
    "model.eval()  # Set the model to evaluation mode\n",
    "\n",
    "unique_value = 'character_3333/3.png'\n",
    "\n",
    "# Print the row where 'image' column has the unique value\n",
    "row = df.loc[df['image'] == unique_value]\n",
    "print(row)\n",
    "\n",
    "# Load and transform the image\n",
    "image = Image.open('rgb_data/character_3333/3.png')\n",
    "transformed_image = raw_transform(image)\n",
    "transformed_image = transformed_image.unsqueeze(0)  # Add a batch dimension\n",
    "\n",
    "# Pass the input through the model\n",
    "with torch.no_grad():\n",
    "    output = model(transformed_image)\n",
    "    _, predicted = torch.max(output, 1)\n",
    "    print(f\"Predicted class: {predicted.item()}\")"
   ]
  },
  {
   "cell_type": "code",
   "execution_count": null,
   "metadata": {},
   "outputs": [],
   "source": [
    "# Load the state dictionary\n",
    "model.load_state_dict(torch.load('mal_model.pth', map_location=torch.device('cpu')))\n",
    "model.eval()  # Set the model to evaluation mode\n",
    "\n",
    "unique_value = 'character_3375/3.png'\n",
    "\n",
    "# Print the row where 'image' column has the unique value\n",
    "row = df.loc[df['image'] == unique_value]\n",
    "print(row)\n",
    "\n",
    "# Load and transform the image\n",
    "image = Image.open('rgb_data/character_3375/3.png')\n",
    "transformed_image = raw_transform(image)\n",
    "transformed_image = transformed_image.unsqueeze(0)  # Add a batch dimension\n",
    "\n",
    "# Pass the input through the model\n",
    "with torch.no_grad():\n",
    "    output = model(transformed_image)\n",
    "    _, predicted = torch.max(output, 1)\n",
    "    print(f\"Predicted class: {predicted.item()}\")"
   ]
  },
  {
   "cell_type": "code",
   "execution_count": null,
   "metadata": {},
   "outputs": [],
   "source": [
    "# Load the state dictionary\n",
    "model.load_state_dict(torch.load('mal_model.pth', map_location=torch.device('cpu')))\n",
    "model.eval()  # Set the model to evaluation mode\n",
    "\n",
    "unique_value = 'character_3374/8.png'\n",
    "\n",
    "# Print the row where 'image' column has the unique value\n",
    "row = df.loc[df['image'] == unique_value]\n",
    "print(row)\n",
    "\n",
    "# Load and transform the image\n",
    "image = Image.open('rgb_data/character_3374/8.png')\n",
    "transformed_image = raw_transform(image)\n",
    "transformed_image = transformed_image.unsqueeze(0)  # Add a batch dimension\n",
    "\n",
    "# Pass the input through the model\n",
    "with torch.no_grad():\n",
    "    output = model(transformed_image)\n",
    "    _, predicted = torch.max(output, 1)\n",
    "    print(f\"Predicted class: {predicted.item()}\")"
   ]
  },
  {
   "cell_type": "markdown",
   "metadata": {},
   "source": [
    "### Testing on a new example that was drawn on paint"
   ]
  },
  {
   "cell_type": "code",
   "execution_count": null,
   "metadata": {},
   "outputs": [],
   "source": [
    "# Load the image\n",
    "image_path = 'diya_maaaaaaaaaaaa.png'\n",
    "image = Image.open(image_path)\n",
    "\n",
    "# Display the image\n",
    "plt.imshow(image)\n",
    "plt.axis('off')  # Hide the axis\n",
    "plt.show()"
   ]
  },
  {
   "cell_type": "code",
   "execution_count": null,
   "metadata": {},
   "outputs": [],
   "source": [
    "transformed_image = raw_transform(image)\n",
    "# displaying the transformed image\n",
    "plt.imshow(transformed_image.permute(1, 2, 0).numpy().clip(0,1))\n",
    "plt.axis(\"off\")\n",
    "plt.show()"
   ]
  },
  {
   "cell_type": "code",
   "execution_count": null,
   "metadata": {},
   "outputs": [],
   "source": [
    "# Load the state dictionary\n",
    "model.load_state_dict(torch.load('mal_model.pth', map_location=torch.device('cpu')))\n",
    "model.eval()  # Set the model to evaluation mode\n",
    "\n",
    "\n",
    "# Load and transform the image\n",
    "image = Image.open(image_path)\n",
    "transformed_image = raw_transform(image)\n",
    "transformed_image = transformed_image.unsqueeze(0)  # Add a batch dimension\n",
    "\n",
    "# Pass the input through the model\n",
    "with torch.no_grad():\n",
    "    output = model(transformed_image)\n",
    "    _, predicted = torch.max(output, 1)\n",
    "    print(f\"Predicted class: {predicted.item()}\")"
   ]
  },
  {
   "cell_type": "code",
   "execution_count": null,
   "metadata": {},
   "outputs": [],
   "source": [
    "# Load the state dictionary\n",
    "model.load_state_dict(torch.load('mal_model.pth', map_location=torch.device('cpu')))\n",
    "model.eval()  # Set the model to evaluation mode\n",
    "\n",
    "image_path = \"diya_ingaaaaaaaaaaaaaaaaa.png\"\n",
    "\n",
    "# Load and transform the image\n",
    "image = Image.open(image_path)\n",
    "transformed_image = raw_transform(image)\n",
    "transformed_image = transformed_image.unsqueeze(0)  # Add a batch dimension\n",
    "\n",
    "# Pass the input through the model\n",
    "with torch.no_grad():\n",
    "    output = model(transformed_image)\n",
    "    _, predicted = torch.max(output, 1)\n",
    "    print(f\"Predicted class: {predicted.item()}\")\n",
    "df[df['label'] == predicted.item()]\n"
   ]
  },
  {
   "cell_type": "code",
   "execution_count": null,
   "metadata": {},
   "outputs": [],
   "source": [
    "# Load the state dictionary\n",
    "model.load_state_dict(torch.load('mal_model.pth', map_location=torch.device('cpu')))\n",
    "model.eval()  # Set the model to evaluation mode\n",
    "\n",
    "image_path = \"bhaaaaaaaaaaaaaaa.png\"\n",
    "\n",
    "# Load and transform the image\n",
    "image = Image.open(image_path)\n",
    "transformed_image = raw_transform(image)\n",
    "transformed_image = transformed_image.unsqueeze(0)  # Add a batch dimension\n",
    "\n",
    "# Pass the input through the model\n",
    "with torch.no_grad():\n",
    "    output = model(transformed_image)\n",
    "    _, predicted = torch.max(output, 1)\n",
    "    print(f\"Predicted class: {predicted.item()}\")\n",
    "df[df['label'] == predicted.item()]\n"
   ]
  },
  {
   "cell_type": "code",
   "execution_count": null,
   "metadata": {},
   "outputs": [],
   "source": [
    "# Load the state dictionary\n",
    "model.load_state_dict(torch.load('mal_model.pth', map_location=torch.device('cpu')))\n",
    "model.eval()  # Set the model to evaluation mode\n",
    "\n",
    "image_path = \"diya_nnnnnnnnnnnnnn.png\"\n",
    "\n",
    "# Load and transform the image\n",
    "image = Image.open(image_path)\n",
    "transformed_image = raw_transform(image)\n",
    "transformed_image = transformed_image.unsqueeze(0)  # Add a batch dimension\n",
    "\n",
    "# Pass the input through the model\n",
    "with torch.no_grad():\n",
    "    output = model(transformed_image)\n",
    "    _, predicted = torch.max(output, 1)\n",
    "    print(f\"Predicted class: {predicted.item()}\")\n",
    "df[df['label'] == predicted.item()]\n"
   ]
  },
  {
   "cell_type": "code",
   "execution_count": null,
   "metadata": {},
   "outputs": [],
   "source": [
    "# Load the state dictionary\n",
    "model.load_state_dict(torch.load('mal_model.pth', map_location=torch.device('cpu')))\n",
    "model.eval()  # Set the model to evaluation mode\n",
    "\n",
    "image_path = \"diya_paaaaaaaaaaaaaaaaaaaaaaaaaaaaaa.png\"\n",
    "\n",
    "# Load and transform the image\n",
    "image = Image.open(image_path)\n",
    "transformed_image = raw_transform(image)\n",
    "transformed_image = transformed_image.unsqueeze(0)  # Add a batch dimension\n",
    "\n",
    "# Pass the input through the model\n",
    "with torch.no_grad():\n",
    "    output = model(transformed_image)\n",
    "    _, predicted = torch.max(output, 1)\n",
    "    print(f\"Predicted class: {predicted.item()}\")\n",
    "df[df['label'] == predicted.item()]\n"
   ]
  },
  {
   "cell_type": "code",
   "execution_count": null,
   "metadata": {},
   "outputs": [],
   "source": [
    "# Load the state dictionary\n",
    "model.load_state_dict(torch.load('mal_model.pth', map_location=torch.device('cpu')))\n",
    "model.eval()  # Set the model to evaluation mode\n",
    "\n",
    "image_path = \"diya_vaaaaaaaaaaaaaaaaaaaaaaaaaaaaaa.png\"\n",
    "\n",
    "# Load and transform the image\n",
    "image = Image.open(image_path)\n",
    "transformed_image = raw_transform(image)\n",
    "transformed_image = transformed_image.unsqueeze(0)  # Add a batch dimension\n",
    "\n",
    "# Pass the input through the model\n",
    "with torch.no_grad():\n",
    "    output = model(transformed_image)\n",
    "    _, predicted = torch.max(output, 1)\n",
    "    print(f\"Predicted class: {predicted.item()}\")\n",
    "df[df['label'] == predicted.item()]\n"
   ]
  },
  {
   "cell_type": "code",
   "execution_count": null,
   "metadata": {},
   "outputs": [],
   "source": [
    "# Load the state dictionary\n",
    "model.load_state_dict(torch.load('mal_model.pth', map_location=torch.device('cpu')))\n",
    "model.eval()  # Set the model to evaluation mode\n",
    "\n",
    "image_path = \"raaaaaaaaaaaaaaaaaaaaaaaaaaaaaaaaaaaaaa.png\"\n",
    "\n",
    "# Load and transform the image\n",
    "image = Image.open(image_path)\n",
    "transformed_image = raw_transform(image)\n",
    "transformed_image = transformed_image.unsqueeze(0)  # Add a batch dimension\n",
    "\n",
    "# Pass the input through the model\n",
    "with torch.no_grad():\n",
    "    output = model(transformed_image)\n",
    "    _, predicted = torch.max(output, 1)\n",
    "    print(f\"Predicted class: {predicted.item()}\")\n",
    "df[df['label'] == predicted.item()]\n"
   ]
  }
 ],
 "metadata": {
  "kernelspec": {
   "display_name": "Python 3",
   "language": "python",
   "name": "python3"
  },
  "language_info": {
   "codemirror_mode": {
    "name": "ipython",
    "version": 3
   },
   "file_extension": ".py",
   "mimetype": "text/x-python",
   "name": "python",
   "nbconvert_exporter": "python",
   "pygments_lexer": "ipython3",
   "version": "3.12.6"
  }
 },
 "nbformat": 4,
 "nbformat_minor": 2
}
