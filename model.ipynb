{
 "cells": [
  {
   "cell_type": "code",
   "execution_count": 1,
   "metadata": {},
   "outputs": [
    {
     "data": {
      "text/plain": [
       "4"
      ]
     },
     "execution_count": 1,
     "metadata": {},
     "output_type": "execute_result"
    }
   ],
   "source": [
    "import multiprocessing\n",
    "multiprocessing.set_start_method('spawn')\n",
    "multiprocessing.cpu_count()"
   ]
  },
  {
   "cell_type": "markdown",
   "metadata": {},
   "source": [
    "## Importing necessary libraries"
   ]
  },
  {
   "cell_type": "code",
   "execution_count": 9,
   "metadata": {},
   "outputs": [],
   "source": [
    "import os\n",
    "import torch\n",
    "import torchvision\n",
    "from torchvision import datasets, transforms\n",
    "from torch.utils.data import DataLoader, Dataset\n",
    "import torch.nn as nn\n",
    "import torch.nn.functional as F\n",
    "import numpy as np\n",
    "from torch.utils.data import random_split\n",
    "import matplotlib.pyplot as plt\n",
    "from PIL import Image\n",
    "import pandas as pd"
   ]
  },
  {
   "cell_type": "code",
   "execution_count": 3,
   "metadata": {},
   "outputs": [],
   "source": [
    "from torch.utils.tensorboard import SummaryWriter\n",
    "tb_writer = SummaryWriter(\"runs/malayalam handwriting classification model - 3\")"
   ]
  },
  {
   "cell_type": "code",
   "execution_count": 10,
   "metadata": {},
   "outputs": [
    {
     "name": "stdout",
     "output_type": "stream",
     "text": [
      "cpu\n"
     ]
    }
   ],
   "source": [
    "device = torch.device(\"cuda\" if torch.cuda.is_available() else \"cpu\")\n",
    "print(device)"
   ]
  },
  {
   "cell_type": "markdown",
   "metadata": {},
   "source": [
    "## Checking the datsaset"
   ]
  },
  {
   "cell_type": "code",
   "execution_count": 11,
   "metadata": {},
   "outputs": [
    {
     "name": "stdout",
     "output_type": "stream",
     "text": [
      "Image mode: RGB\n",
      "Image size: (300, 300)\n",
      "Pixel range: 0 to 255\n"
     ]
    }
   ],
   "source": [
    "# Path to a sample image\n",
    "sample_img_path = \"aksharam_data\\അ\\\\3.png\"\n",
    "\n",
    "# Open the image\n",
    "img = Image.open(sample_img_path)\n",
    "print(f\"Image mode: {img.mode}\")  # Should be \"RGB\" or \"RGBA\n",
    "print(f\"Image size: {img.size}\")\n",
    "\n",
    "# Convert to NumPy array and inspect pixel values\n",
    "img_array = np.array(img)\n",
    "print(f\"Pixel range: {img_array.min()} to {img_array.max()}\")\n"
   ]
  },
  {
   "cell_type": "code",
   "execution_count": 12,
   "metadata": {},
   "outputs": [
    {
     "name": "stdout",
     "output_type": "stream",
     "text": [
      "Min pixel value: 0\n",
      "Max pixel value: 255\n",
      "Mean pixel value: 233.46844444444446\n"
     ]
    }
   ],
   "source": [
    "# Load a single image from your dataset\n",
    "image_path = \"aksharam_data\\ഛ\\\\2.png\"  # Adjust this path based on your dataset\n",
    "image = Image.open(image_path)\n",
    "\n",
    "# Convert the image to a numpy array\n",
    "image_np = np.array(image)\n",
    "\n",
    "# Display the pixel values of the image\n",
    "print(f\"Min pixel value: {image_np.min()}\")\n",
    "print(f\"Max pixel value: {image_np.max()}\")\n",
    "print(f\"Mean pixel value: {image_np.mean()}\")\n"
   ]
  },
  {
   "cell_type": "markdown",
   "metadata": {},
   "source": [
    "### Checking how many images are present per letter"
   ]
  },
  {
   "cell_type": "code",
   "execution_count": 20,
   "metadata": {},
   "outputs": [
    {
     "name": "stdout",
     "output_type": "stream",
     "text": [
      "Label 'അ' has 800 images.\n",
      "Label 'ആ' has 769 images.\n",
      "Label 'ഇ' has 851 images.\n",
      "Label 'ഉ' has 845 images.\n",
      "Label 'ഋ' has 600 images.\n",
      "Label 'എ' has 823 images.\n",
      "Label 'ഏ' has 777 images.\n",
      "Label 'ഒ' has 823 images.\n",
      "Label 'ക' has 738 images.\n",
      "Label 'ഖ' has 721 images.\n",
      "Label 'ഗ' has 734 images.\n",
      "Label 'ഘ' has 709 images.\n",
      "Label 'ങ' has 656 images.\n",
      "Label 'ച' has 698 images.\n",
      "Label 'ഛ' has 715 images.\n",
      "Label 'ജ' has 739 images.\n",
      "Label 'ഝ' has 696 images.\n",
      "Label 'ഞ' has 717 images.\n",
      "Label 'ട' has 729 images.\n",
      "Label 'ഠ' has 681 images.\n",
      "Label 'ഡ' has 691 images.\n",
      "Label 'ഢ' has 710 images.\n",
      "Label 'ണ' has 730 images.\n",
      "Label 'ത' has 724 images.\n",
      "Label 'ഥ' has 486 images.\n",
      "Label 'ദ' has 461 images.\n",
      "Label 'ധ' has 704 images.\n",
      "Label 'ന' has 708 images.\n",
      "Label 'പ' has 676 images.\n",
      "Label 'ഫ' has 714 images.\n",
      "Label 'ബ' has 712 images.\n",
      "Label 'ഭ' has 691 images.\n",
      "Label 'മ' has 732 images.\n",
      "Label 'യ' has 716 images.\n",
      "Label 'ര' has 703 images.\n",
      "Label 'റ' has 649 images.\n",
      "Label 'ല' has 721 images.\n",
      "Label 'ള' has 710 images.\n",
      "Label 'ഴ' has 695 images.\n",
      "Label 'വ' has 700 images.\n",
      "Label 'ശ' has 708 images.\n",
      "Label 'ഷ' has 705 images.\n",
      "Label 'സ' has 678 images.\n",
      "Label 'ഹ' has 716 images.\n",
      "Label '൯' has 606 images.\n",
      "Label 'ൺ' has 598 images.\n",
      "Label 'ർ' has 604 images.\n",
      "Label 'ൽ' has 607 images.\n",
      "Label 'ൾ' has 612 images.\n",
      "\n",
      "Total images: 34288\n"
     ]
    }
   ],
   "source": [
    "def count_images_in_folders(base_dir):\n",
    "    label_counts = {}\n",
    "\n",
    "    for label in os.listdir(base_dir):\n",
    "        label_path = os.path.join(base_dir, label)\n",
    "\n",
    "        if os.path.isdir(label_path):  # Ensure it's a folder\n",
    "            num_images = len([f for f in os.listdir(label_path) if os.path.isfile(os.path.join(label_path, f))])\n",
    "            label_counts[label] = num_images\n",
    "\n",
    "    return label_counts\n",
    "\n",
    "# Set the base directory\n",
    "base_directory = \"aksharam_data\"\n",
    "\n",
    "# Get image counts per label\n",
    "image_counts = count_images_in_folders(base_directory)\n",
    "\n",
    "# Print results\n",
    "for label, count in image_counts.items():\n",
    "    print(f\"Label '{label}' has {count} images.\")\n",
    "\n",
    "# Total images across all folders\n",
    "print(f\"\\nTotal images: {sum(image_counts.values())}\")\n"
   ]
  },
  {
   "cell_type": "markdown",
   "metadata": {},
   "source": [
    "### Creating the Custom dataset loader"
   ]
  },
  {
   "cell_type": "code",
   "execution_count": 18,
   "metadata": {},
   "outputs": [],
   "source": [
    "class MalHandwritingDataset(Dataset):\n",
    "    def __init__(self, csv_file, root_dir, transform=None):\n",
    "        self.annotations = pd.read_csv(csv_file)\n",
    "        self.root_dir = root_dir\n",
    "        self.transform = transform\n",
    "        \n",
    "    def __len__(self):\n",
    "        return len(self.annotations)\n",
    "    \n",
    "    def __getitem__(self, index):\n",
    "        img_path = os.path.join(self.root_dir, self.annotations.iloc[index, 0])\n",
    "        image = Image.open(img_path)\n",
    "        label = torch.tensor(int(self.annotations.iloc[index, 1]))\n",
    "        \n",
    "        if self.transform:\n",
    "            image = self.transform(image)\n",
    "            \n",
    "        return (image, label)"
   ]
  },
  {
   "cell_type": "markdown",
   "metadata": {},
   "source": [
    "### The final transforms\n",
    "#### Loading the dataset and applying transforms"
   ]
  },
  {
   "cell_type": "markdown",
   "metadata": {},
   "source": [
    "Note that transforms don't resize images that are already 32x32 dimensions, so the images from the csv file go through untouched"
   ]
  },
  {
   "cell_type": "code",
   "execution_count": 21,
   "metadata": {},
   "outputs": [],
   "source": [
    "root_dir = \"aksharam_data\""
   ]
  },
  {
   "cell_type": "code",
   "execution_count": 22,
   "metadata": {},
   "outputs": [],
   "source": [
    "def load_data(data_augmentation=False):\n",
    "    \n",
    "    transform_original = transforms.Compose([\n",
    "        transforms.Resize((32, 32)),\n",
    "        transforms.ToTensor()\n",
    "    ])\n",
    "    \n",
    "    transform_augmented = transforms.Compose([\n",
    "        transforms.RandomHorizontalFlip(),\n",
    "        transforms.RandomRotation(10),\n",
    "        transforms.ColorJitter(\n",
    "        brightness=0.5,  # Randomly change brightness\n",
    "        contrast=0.5,   # Randomly change contrast\n",
    "        saturation=0.5, # Randomly change saturation\n",
    "        hue=0.1         # Randomly change hue\n",
    "    ),\n",
    "        transforms.Resize((32, 32)),\n",
    "        transforms.ToTensor()\n",
    "    ])\n",
    "    \n",
    "    if data_augmentation:\n",
    "        original_dataset = MalHandwritingDataset(\n",
    "                                csv_file=\"labels.csv\",\n",
    "                                root_dir=root_dir,\n",
    "                                transform=transform_original)\n",
    "        \n",
    "        augmented_dataset = MalHandwritingDataset(\n",
    "                                csv_file=\"labels.csv\",\n",
    "                                root_dir=root_dir,\n",
    "                                transform=transform_augmented)\n",
    "        \n",
    "        dataset = torch.utils.data.ConcatDataset([original_dataset, augmented_dataset])\n",
    "    else:\n",
    "        dataset = MalHandwritingDataset(\n",
    "                            csv_file=\"labels.csv\",\n",
    "                            root_dir=root_dir,\n",
    "                            transform=transform_original)\n",
    "        \n",
    "    # Split dataset into training and testing\n",
    "    train_size = int(0.8 * len(dataset))\n",
    "    test_size = len(dataset) - train_size\n",
    "    train_dataset, test_dataset = random_split(dataset, [train_size, test_size])\n",
    "\n",
    "    # Create DataLoaders\n",
    "    train_loader = DataLoader(dataset=train_dataset, batch_size=32, shuffle=True)\n",
    "    test_loader = DataLoader(dataset=test_dataset, batch_size=32, shuffle=False)\n",
    "    \n",
    "    return train_loader, test_loader\n",
    "\n",
    "    "
   ]
  },
  {
   "cell_type": "code",
   "execution_count": 23,
   "metadata": {},
   "outputs": [],
   "source": [
    "train_loader, test_loader = load_data(data_augmentation=True)"
   ]
  },
  {
   "cell_type": "code",
   "execution_count": null,
   "metadata": {},
   "outputs": [
    {
     "name": "stdout",
     "output_type": "stream",
     "text": [
      "Batch size: torch.Size([32, 3, 32, 32])\n",
      "Labels: tensor([ 6, 10, 17,  9,  1, 38, 38, 28, 48, 12,  7, 18,  5,  6, 42,  4, 25, 13,\n",
      "        31, 39, 16, 20, 32, 12, 46,  0, 21, 43, 28,  2, 27, 29])\n",
      "32\n"
     ]
    }
   ],
   "source": [
    "# Check the first batch of training data\n",
    "data_iter = iter(train_loader)\n",
    "images, labels = next(data_iter)\n",
    "\n",
    "print(f\"Batch size: {images.shape}\")  # e.g., torch.Size([32, 3, 32, 32])\n",
    "print(f\"Labels: {labels}\")\n",
    "print(len(labels))\n"
   ]
  },
  {
   "cell_type": "markdown",
   "metadata": {},
   "source": [
    "#### displaying pixel values"
   ]
  },
  {
   "cell_type": "code",
   "execution_count": 25,
   "metadata": {},
   "outputs": [
    {
     "name": "stdout",
     "output_type": "stream",
     "text": [
      "Min pixel value: 0.0\n",
      "Max pixel value: 1.0\n",
      "Mean Pixel Value: 0.8818359375\n"
     ]
    }
   ],
   "source": [
    "# Check the min and max pixel values\n",
    "print(f'Min pixel value: {images[0][0].min().item()}')\n",
    "print(f'Max pixel value: {images[0][0].max().item()}')\n",
    "print(f\"Mean Pixel Value: {images[0][0].mean().item()}\")"
   ]
  },
  {
   "cell_type": "markdown",
   "metadata": {},
   "source": [
    "#### Visualizing one batch of images"
   ]
  },
  {
   "cell_type": "code",
   "execution_count": 26,
   "metadata": {},
   "outputs": [
    {
     "data": {
      "text/plain": [
       "(-0.5, 273.5, 137.5, -0.5)"
      ]
     },
     "execution_count": 26,
     "metadata": {},
     "output_type": "execute_result"
    },
    {
     "data": {
      "image/png": "[encoded data removed]",
      "text/plain": [
       "<Figure size 640x480 with 1 Axes>"
      ]
     },
     "metadata": {},
     "output_type": "display_data"
    }
   ],
   "source": [
    "# Create a grid of images\n",
    "img_grid = torchvision.utils.make_grid(images, nrow=8)  # 8 images per row\n",
    "\n",
    "# Convert the grid to a NumPy array and transpose the dimensions\n",
    "np_grid = img_grid.numpy().clip(0,1)\n",
    "\n",
    "np_grid = np_grid.transpose((1, 2, 0))\n",
    "\n",
    "# Display the grid of images\n",
    "plt.imshow(np_grid)\n",
    "plt.axis('off')  # Hide the axis\n",
    "# Add the grid of images to TensorBoard\n",
    "# tb_writer.add_image(\"MalHandwriting\", img_grid)\n",
    "# # Close the writer\n",
    "# tb_writer.close()\n"
   ]
  },
  {
   "cell_type": "code",
   "execution_count": 28,
   "metadata": {},
   "outputs": [
    {
     "name": "stdout",
     "output_type": "stream",
     "text": [
      "49\n"
     ]
    }
   ],
   "source": [
    "num_classes = len(os.listdir(\"aksharam_data\"))\n",
    "print(num_classes)"
   ]
  },
  {
   "cell_type": "markdown",
   "metadata": {},
   "source": [
    "## Model Architecture"
   ]
  },
  {
   "cell_type": "code",
   "execution_count": 29,
   "metadata": {},
   "outputs": [],
   "source": [
    "# Hyper-parameters\n",
    "num_epochs = 500\n",
    "batch_size = 32\n",
    "# 6000 images in dataset, 80% for training -> 4800 images so 4800/32 = 150 iterations per epoch\n",
    "learning_rate = 0.0001"
   ]
  },
  {
   "cell_type": "code",
   "execution_count": 30,
   "metadata": {},
   "outputs": [],
   "source": [
    "# implement the CNN\n",
    "\n",
    "class ConvNet(nn.Module):\n",
    "    def __init__(self):\n",
    "        super(ConvNet, self).__init__()\n",
    "        \n",
    "        self.conv1 = nn.Conv2d(3, 6, 5)\n",
    "        self.pool = nn.AvgPool2d(2, 2)\n",
    "        \n",
    "        self.conv2 = nn.Conv2d(6, 16, 5)\n",
    "        self.pool = nn.AvgPool2d(2, 2)\n",
    "        \n",
    "        self.fc1 = nn.Linear(16 * 5 * 5, 120)\n",
    "        # 16 * 5 * 5 is the size of the input to the fully connected layer\n",
    "        self.fc2 = nn.Linear(120, 84)\n",
    "        self.fc3 = nn.Linear(84, num_classes)\n",
    "    \n",
    "    def forward(self, x):\n",
    "        \n",
    "        # first conv2d layer\n",
    "        x = self.pool(F.relu(self.conv1(x)))\n",
    "\n",
    "        # second conv2d layer\n",
    "        x = self.pool(F.relu(self.conv2(x)))\n",
    "        \n",
    "        # flatten the tensor\n",
    "        x = x.view(-1, 16 * 5 * 5)\n",
    "        \n",
    "        \n",
    "        # first fully connected layer\n",
    "        x = F.relu(self.fc1(x))\n",
    "        \n",
    "        \n",
    "        # second fully connected layer  \n",
    "        x = F.relu(self.fc2(x))\n",
    "        \n",
    "        \n",
    "        # third fully connected layer\n",
    "        x = self.fc3(x)\n",
    "        # last is softmax layer but that is done by optimizer\n",
    "        \n",
    "        return x\n",
    "        "
   ]
  },
  {
   "cell_type": "code",
   "execution_count": 31,
   "metadata": {},
   "outputs": [],
   "source": [
    "model = ConvNet()\n",
    "# Move the model to the GPU\n",
    "model = model.to(device)"
   ]
  },
  {
   "cell_type": "code",
   "execution_count": 32,
   "metadata": {},
   "outputs": [],
   "source": [
    "criterion = nn.CrossEntropyLoss()\n",
    "optimizer = torch.optim.Adam(model.parameters(), lr=learning_rate)"
   ]
  },
  {
   "cell_type": "code",
   "execution_count": 46,
   "metadata": {},
   "outputs": [],
   "source": [
    "tb_writer.add_graph(model, images)\n",
    "tb_writer.close()"
   ]
  },
  {
   "cell_type": "code",
   "execution_count": 33,
   "metadata": {},
   "outputs": [
    {
     "ename": "KeyboardInterrupt",
     "evalue": "",
     "output_type": "error",
     "traceback": [
      "\u001b[1;31m---------------------------------------------------------------------------\u001b[0m",
      "\u001b[1;31mKeyboardInterrupt\u001b[0m                         Traceback (most recent call last)",
      "\u001b[1;32m~\\AppData\\Local\\Temp\\ipykernel_16136\\2905904072.py\u001b[0m in \u001b[0;36m<module>\u001b[1;34m\u001b[0m\n\u001b[0;32m      7\u001b[0m     \u001b[0mtotal\u001b[0m \u001b[1;33m=\u001b[0m \u001b[1;36m0\u001b[0m\u001b[1;33m\u001b[0m\u001b[1;33m\u001b[0m\u001b[0m\n\u001b[0;32m      8\u001b[0m \u001b[1;33m\u001b[0m\u001b[0m\n\u001b[1;32m----> 9\u001b[1;33m     \u001b[1;32mfor\u001b[0m \u001b[0mi\u001b[0m\u001b[1;33m,\u001b[0m \u001b[1;33m(\u001b[0m\u001b[0mimages\u001b[0m\u001b[1;33m,\u001b[0m \u001b[0mlabels\u001b[0m\u001b[1;33m)\u001b[0m \u001b[1;32min\u001b[0m \u001b[0menumerate\u001b[0m\u001b[1;33m(\u001b[0m\u001b[0mtrain_loader\u001b[0m\u001b[1;33m)\u001b[0m\u001b[1;33m:\u001b[0m\u001b[1;33m\u001b[0m\u001b[1;33m\u001b[0m\u001b[0m\n\u001b[0m\u001b[0;32m     10\u001b[0m         \u001b[1;31m# original shape: [32,3,64,64] = 32,3,1024\u001b[0m\u001b[1;33m\u001b[0m\u001b[1;33m\u001b[0m\u001b[1;33m\u001b[0m\u001b[0m\n\u001b[0;32m     11\u001b[0m         \u001b[1;31m# input_layer: 3 input channels, 6 output channels, 5 kernel size\u001b[0m\u001b[1;33m\u001b[0m\u001b[1;33m\u001b[0m\u001b[1;33m\u001b[0m\u001b[0m\n",
      "\u001b[1;32mc:\\Users\\user\\anaconda3\\envs\\malenv\\lib\\site-packages\\torch\\utils\\data\\dataloader.py\u001b[0m in \u001b[0;36m__next__\u001b[1;34m(self)\u001b[0m\n\u001b[0;32m    679\u001b[0m                 \u001b[1;31m# TODO(https://github.com/pytorch/pytorch/issues/76750)\u001b[0m\u001b[1;33m\u001b[0m\u001b[1;33m\u001b[0m\u001b[1;33m\u001b[0m\u001b[0m\n\u001b[0;32m    680\u001b[0m                 \u001b[0mself\u001b[0m\u001b[1;33m.\u001b[0m\u001b[0m_reset\u001b[0m\u001b[1;33m(\u001b[0m\u001b[1;33m)\u001b[0m  \u001b[1;31m# type: ignore[call-arg]\u001b[0m\u001b[1;33m\u001b[0m\u001b[1;33m\u001b[0m\u001b[0m\n\u001b[1;32m--> 681\u001b[1;33m             \u001b[0mdata\u001b[0m \u001b[1;33m=\u001b[0m \u001b[0mself\u001b[0m\u001b[1;33m.\u001b[0m\u001b[0m_next_data\u001b[0m\u001b[1;33m(\u001b[0m\u001b[1;33m)\u001b[0m\u001b[1;33m\u001b[0m\u001b[1;33m\u001b[0m\u001b[0m\n\u001b[0m\u001b[0;32m    682\u001b[0m             \u001b[0mself\u001b[0m\u001b[1;33m.\u001b[0m\u001b[0m_num_yielded\u001b[0m \u001b[1;33m+=\u001b[0m \u001b[1;36m1\u001b[0m\u001b[1;33m\u001b[0m\u001b[1;33m\u001b[0m\u001b[0m\n\u001b[0;32m    683\u001b[0m             \u001b[1;32mif\u001b[0m \u001b[0mself\u001b[0m\u001b[1;33m.\u001b[0m\u001b[0m_dataset_kind\u001b[0m \u001b[1;33m==\u001b[0m \u001b[0m_DatasetKind\u001b[0m\u001b[1;33m.\u001b[0m\u001b[0mIterable\u001b[0m \u001b[1;32mand\u001b[0m\u001b[0;31m \u001b[0m\u001b[0;31m\\\u001b[0m\u001b[1;33m\u001b[0m\u001b[1;33m\u001b[0m\u001b[0m\n",
      "\u001b[1;32mc:\\Users\\user\\anaconda3\\envs\\malenv\\lib\\site-packages\\torch\\utils\\data\\dataloader.py\u001b[0m in \u001b[0;36m_next_data\u001b[1;34m(self)\u001b[0m\n\u001b[0;32m    719\u001b[0m     \u001b[1;32mdef\u001b[0m \u001b[0m_next_data\u001b[0m\u001b[1;33m(\u001b[0m\u001b[0mself\u001b[0m\u001b[1;33m)\u001b[0m\u001b[1;33m:\u001b[0m\u001b[1;33m\u001b[0m\u001b[1;33m\u001b[0m\u001b[0m\n\u001b[0;32m    720\u001b[0m         \u001b[0mindex\u001b[0m \u001b[1;33m=\u001b[0m \u001b[0mself\u001b[0m\u001b[1;33m.\u001b[0m\u001b[0m_next_index\u001b[0m\u001b[1;33m(\u001b[0m\u001b[1;33m)\u001b[0m  \u001b[1;31m# may raise StopIteration\u001b[0m\u001b[1;33m\u001b[0m\u001b[1;33m\u001b[0m\u001b[0m\n\u001b[1;32m--> 721\u001b[1;33m         \u001b[0mdata\u001b[0m \u001b[1;33m=\u001b[0m \u001b[0mself\u001b[0m\u001b[1;33m.\u001b[0m\u001b[0m_dataset_fetcher\u001b[0m\u001b[1;33m.\u001b[0m\u001b[0mfetch\u001b[0m\u001b[1;33m(\u001b[0m\u001b[0mindex\u001b[0m\u001b[1;33m)\u001b[0m  \u001b[1;31m# may raise StopIteration\u001b[0m\u001b[1;33m\u001b[0m\u001b[1;33m\u001b[0m\u001b[0m\n\u001b[0m\u001b[0;32m    722\u001b[0m         \u001b[1;32mif\u001b[0m \u001b[0mself\u001b[0m\u001b[1;33m.\u001b[0m\u001b[0m_pin_memory\u001b[0m\u001b[1;33m:\u001b[0m\u001b[1;33m\u001b[0m\u001b[1;33m\u001b[0m\u001b[0m\n\u001b[0;32m    723\u001b[0m             \u001b[0mdata\u001b[0m \u001b[1;33m=\u001b[0m \u001b[0m_utils\u001b[0m\u001b[1;33m.\u001b[0m\u001b[0mpin_memory\u001b[0m\u001b[1;33m.\u001b[0m\u001b[0mpin_memory\u001b[0m\u001b[1;33m(\u001b[0m\u001b[0mdata\u001b[0m\u001b[1;33m,\u001b[0m \u001b[0mself\u001b[0m\u001b[1;33m.\u001b[0m\u001b[0m_pin_memory_device\u001b[0m\u001b[1;33m)\u001b[0m\u001b[1;33m\u001b[0m\u001b[1;33m\u001b[0m\u001b[0m\n",
      "\u001b[1;32mc:\\Users\\user\\anaconda3\\envs\\malenv\\lib\\site-packages\\torch\\utils\\data\\_utils\\fetch.py\u001b[0m in \u001b[0;36mfetch\u001b[1;34m(self, possibly_batched_index)\u001b[0m\n\u001b[0;32m     47\u001b[0m     \u001b[1;32mdef\u001b[0m \u001b[0mfetch\u001b[0m\u001b[1;33m(\u001b[0m\u001b[0mself\u001b[0m\u001b[1;33m,\u001b[0m \u001b[0mpossibly_batched_index\u001b[0m\u001b[1;33m)\u001b[0m\u001b[1;33m:\u001b[0m\u001b[1;33m\u001b[0m\u001b[1;33m\u001b[0m\u001b[0m\n\u001b[0;32m     48\u001b[0m         \u001b[1;32mif\u001b[0m \u001b[0mself\u001b[0m\u001b[1;33m.\u001b[0m\u001b[0mauto_collation\u001b[0m\u001b[1;33m:\u001b[0m\u001b[1;33m\u001b[0m\u001b[1;33m\u001b[0m\u001b[0m\n\u001b[1;32m---> 49\u001b[1;33m             \u001b[0mdata\u001b[0m \u001b[1;33m=\u001b[0m \u001b[1;33m[\u001b[0m\u001b[0mself\u001b[0m\u001b[1;33m.\u001b[0m\u001b[0mdataset\u001b[0m\u001b[1;33m[\u001b[0m\u001b[0midx\u001b[0m\u001b[1;33m]\u001b[0m \u001b[1;32mfor\u001b[0m \u001b[0midx\u001b[0m \u001b[1;32min\u001b[0m \u001b[0mpossibly_batched_index\u001b[0m\u001b[1;33m]\u001b[0m\u001b[1;33m\u001b[0m\u001b[1;33m\u001b[0m\u001b[0m\n\u001b[0m\u001b[0;32m     50\u001b[0m         \u001b[1;32melse\u001b[0m\u001b[1;33m:\u001b[0m\u001b[1;33m\u001b[0m\u001b[1;33m\u001b[0m\u001b[0m\n\u001b[0;32m     51\u001b[0m             \u001b[0mdata\u001b[0m \u001b[1;33m=\u001b[0m \u001b[0mself\u001b[0m\u001b[1;33m.\u001b[0m\u001b[0mdataset\u001b[0m\u001b[1;33m[\u001b[0m\u001b[0mpossibly_batched_index\u001b[0m\u001b[1;33m]\u001b[0m\u001b[1;33m\u001b[0m\u001b[1;33m\u001b[0m\u001b[0m\n",
      "\u001b[1;32mc:\\Users\\user\\anaconda3\\envs\\malenv\\lib\\site-packages\\torch\\utils\\data\\_utils\\fetch.py\u001b[0m in \u001b[0;36m<listcomp>\u001b[1;34m(.0)\u001b[0m\n\u001b[0;32m     47\u001b[0m     \u001b[1;32mdef\u001b[0m \u001b[0mfetch\u001b[0m\u001b[1;33m(\u001b[0m\u001b[0mself\u001b[0m\u001b[1;33m,\u001b[0m \u001b[0mpossibly_batched_index\u001b[0m\u001b[1;33m)\u001b[0m\u001b[1;33m:\u001b[0m\u001b[1;33m\u001b[0m\u001b[1;33m\u001b[0m\u001b[0m\n\u001b[0;32m     48\u001b[0m         \u001b[1;32mif\u001b[0m \u001b[0mself\u001b[0m\u001b[1;33m.\u001b[0m\u001b[0mauto_collation\u001b[0m\u001b[1;33m:\u001b[0m\u001b[1;33m\u001b[0m\u001b[1;33m\u001b[0m\u001b[0m\n\u001b[1;32m---> 49\u001b[1;33m             \u001b[0mdata\u001b[0m \u001b[1;33m=\u001b[0m \u001b[1;33m[\u001b[0m\u001b[0mself\u001b[0m\u001b[1;33m.\u001b[0m\u001b[0mdataset\u001b[0m\u001b[1;33m[\u001b[0m\u001b[0midx\u001b[0m\u001b[1;33m]\u001b[0m \u001b[1;32mfor\u001b[0m \u001b[0midx\u001b[0m \u001b[1;32min\u001b[0m \u001b[0mpossibly_batched_index\u001b[0m\u001b[1;33m]\u001b[0m\u001b[1;33m\u001b[0m\u001b[1;33m\u001b[0m\u001b[0m\n\u001b[0m\u001b[0;32m     50\u001b[0m         \u001b[1;32melse\u001b[0m\u001b[1;33m:\u001b[0m\u001b[1;33m\u001b[0m\u001b[1;33m\u001b[0m\u001b[0m\n\u001b[0;32m     51\u001b[0m             \u001b[0mdata\u001b[0m \u001b[1;33m=\u001b[0m \u001b[0mself\u001b[0m\u001b[1;33m.\u001b[0m\u001b[0mdataset\u001b[0m\u001b[1;33m[\u001b[0m\u001b[0mpossibly_batched_index\u001b[0m\u001b[1;33m]\u001b[0m\u001b[1;33m\u001b[0m\u001b[1;33m\u001b[0m\u001b[0m\n",
      "\u001b[1;32mc:\\Users\\user\\anaconda3\\envs\\malenv\\lib\\site-packages\\torch\\utils\\data\\dataset.py\u001b[0m in \u001b[0;36m__getitem__\u001b[1;34m(self, idx)\u001b[0m\n\u001b[0;32m    288\u001b[0m         \u001b[1;32mif\u001b[0m \u001b[0misinstance\u001b[0m\u001b[1;33m(\u001b[0m\u001b[0midx\u001b[0m\u001b[1;33m,\u001b[0m \u001b[0mlist\u001b[0m\u001b[1;33m)\u001b[0m\u001b[1;33m:\u001b[0m\u001b[1;33m\u001b[0m\u001b[1;33m\u001b[0m\u001b[0m\n\u001b[0;32m    289\u001b[0m             \u001b[1;32mreturn\u001b[0m \u001b[0mself\u001b[0m\u001b[1;33m.\u001b[0m\u001b[0mdataset\u001b[0m\u001b[1;33m[\u001b[0m\u001b[1;33m[\u001b[0m\u001b[0mself\u001b[0m\u001b[1;33m.\u001b[0m\u001b[0mindices\u001b[0m\u001b[1;33m[\u001b[0m\u001b[0mi\u001b[0m\u001b[1;33m]\u001b[0m \u001b[1;32mfor\u001b[0m \u001b[0mi\u001b[0m \u001b[1;32min\u001b[0m \u001b[0midx\u001b[0m\u001b[1;33m]\u001b[0m\u001b[1;33m]\u001b[0m\u001b[1;33m\u001b[0m\u001b[1;33m\u001b[0m\u001b[0m\n\u001b[1;32m--> 290\u001b[1;33m         \u001b[1;32mreturn\u001b[0m \u001b[0mself\u001b[0m\u001b[1;33m.\u001b[0m\u001b[0mdataset\u001b[0m\u001b[1;33m[\u001b[0m\u001b[0mself\u001b[0m\u001b[1;33m.\u001b[0m\u001b[0mindices\u001b[0m\u001b[1;33m[\u001b[0m\u001b[0midx\u001b[0m\u001b[1;33m]\u001b[0m\u001b[1;33m]\u001b[0m\u001b[1;33m\u001b[0m\u001b[1;33m\u001b[0m\u001b[0m\n\u001b[0m\u001b[0;32m    291\u001b[0m \u001b[1;33m\u001b[0m\u001b[0m\n\u001b[0;32m    292\u001b[0m     \u001b[1;32mdef\u001b[0m \u001b[0m__len__\u001b[0m\u001b[1;33m(\u001b[0m\u001b[0mself\u001b[0m\u001b[1;33m)\u001b[0m\u001b[1;33m:\u001b[0m\u001b[1;33m\u001b[0m\u001b[1;33m\u001b[0m\u001b[0m\n",
      "\u001b[1;32mc:\\Users\\user\\anaconda3\\envs\\malenv\\lib\\site-packages\\torch\\utils\\data\\dataset.py\u001b[0m in \u001b[0;36m__getitem__\u001b[1;34m(self, idx)\u001b[0m\n\u001b[0;32m    233\u001b[0m         \u001b[1;32melse\u001b[0m\u001b[1;33m:\u001b[0m\u001b[1;33m\u001b[0m\u001b[1;33m\u001b[0m\u001b[0m\n\u001b[0;32m    234\u001b[0m             \u001b[0msample_idx\u001b[0m \u001b[1;33m=\u001b[0m \u001b[0midx\u001b[0m \u001b[1;33m-\u001b[0m \u001b[0mself\u001b[0m\u001b[1;33m.\u001b[0m\u001b[0mcumulative_sizes\u001b[0m\u001b[1;33m[\u001b[0m\u001b[0mdataset_idx\u001b[0m \u001b[1;33m-\u001b[0m \u001b[1;36m1\u001b[0m\u001b[1;33m]\u001b[0m\u001b[1;33m\u001b[0m\u001b[1;33m\u001b[0m\u001b[0m\n\u001b[1;32m--> 235\u001b[1;33m         \u001b[1;32mreturn\u001b[0m \u001b[0mself\u001b[0m\u001b[1;33m.\u001b[0m\u001b[0mdatasets\u001b[0m\u001b[1;33m[\u001b[0m\u001b[0mdataset_idx\u001b[0m\u001b[1;33m]\u001b[0m\u001b[1;33m[\u001b[0m\u001b[0msample_idx\u001b[0m\u001b[1;33m]\u001b[0m\u001b[1;33m\u001b[0m\u001b[1;33m\u001b[0m\u001b[0m\n\u001b[0m\u001b[0;32m    236\u001b[0m \u001b[1;33m\u001b[0m\u001b[0m\n\u001b[0;32m    237\u001b[0m     \u001b[1;33m@\u001b[0m\u001b[0mproperty\u001b[0m\u001b[1;33m\u001b[0m\u001b[1;33m\u001b[0m\u001b[0m\n",
      "\u001b[1;32m~\\AppData\\Local\\Temp\\ipykernel_16136\\4052934631.py\u001b[0m in \u001b[0;36m__getitem__\u001b[1;34m(self, index)\u001b[0m\n\u001b[0;32m     10\u001b[0m     \u001b[1;32mdef\u001b[0m \u001b[0m__getitem__\u001b[0m\u001b[1;33m(\u001b[0m\u001b[0mself\u001b[0m\u001b[1;33m,\u001b[0m \u001b[0mindex\u001b[0m\u001b[1;33m)\u001b[0m\u001b[1;33m:\u001b[0m\u001b[1;33m\u001b[0m\u001b[1;33m\u001b[0m\u001b[0m\n\u001b[0;32m     11\u001b[0m         \u001b[0mimg_path\u001b[0m \u001b[1;33m=\u001b[0m \u001b[0mos\u001b[0m\u001b[1;33m.\u001b[0m\u001b[0mpath\u001b[0m\u001b[1;33m.\u001b[0m\u001b[0mjoin\u001b[0m\u001b[1;33m(\u001b[0m\u001b[0mself\u001b[0m\u001b[1;33m.\u001b[0m\u001b[0mroot_dir\u001b[0m\u001b[1;33m,\u001b[0m \u001b[0mself\u001b[0m\u001b[1;33m.\u001b[0m\u001b[0mannotations\u001b[0m\u001b[1;33m.\u001b[0m\u001b[0miloc\u001b[0m\u001b[1;33m[\u001b[0m\u001b[0mindex\u001b[0m\u001b[1;33m,\u001b[0m \u001b[1;36m0\u001b[0m\u001b[1;33m]\u001b[0m\u001b[1;33m)\u001b[0m\u001b[1;33m\u001b[0m\u001b[1;33m\u001b[0m\u001b[0m\n\u001b[1;32m---> 12\u001b[1;33m         \u001b[0mimage\u001b[0m \u001b[1;33m=\u001b[0m \u001b[0mImage\u001b[0m\u001b[1;33m.\u001b[0m\u001b[0mopen\u001b[0m\u001b[1;33m(\u001b[0m\u001b[0mimg_path\u001b[0m\u001b[1;33m)\u001b[0m\u001b[1;33m\u001b[0m\u001b[1;33m\u001b[0m\u001b[0m\n\u001b[0m\u001b[0;32m     13\u001b[0m         \u001b[0mlabel\u001b[0m \u001b[1;33m=\u001b[0m \u001b[0mtorch\u001b[0m\u001b[1;33m.\u001b[0m\u001b[0mtensor\u001b[0m\u001b[1;33m(\u001b[0m\u001b[0mint\u001b[0m\u001b[1;33m(\u001b[0m\u001b[0mself\u001b[0m\u001b[1;33m.\u001b[0m\u001b[0mannotations\u001b[0m\u001b[1;33m.\u001b[0m\u001b[0miloc\u001b[0m\u001b[1;33m[\u001b[0m\u001b[0mindex\u001b[0m\u001b[1;33m,\u001b[0m \u001b[1;36m1\u001b[0m\u001b[1;33m]\u001b[0m\u001b[1;33m)\u001b[0m\u001b[1;33m)\u001b[0m\u001b[1;33m\u001b[0m\u001b[1;33m\u001b[0m\u001b[0m\n\u001b[0;32m     14\u001b[0m \u001b[1;33m\u001b[0m\u001b[0m\n",
      "\u001b[1;32mc:\\Users\\user\\anaconda3\\envs\\malenv\\lib\\site-packages\\PIL\\Image.py\u001b[0m in \u001b[0;36mopen\u001b[1;34m(fp, mode, formats)\u001b[0m\n\u001b[0;32m   3225\u001b[0m \u001b[1;33m\u001b[0m\u001b[0m\n\u001b[0;32m   3226\u001b[0m     \u001b[1;32mif\u001b[0m \u001b[0mfilename\u001b[0m\u001b[1;33m:\u001b[0m\u001b[1;33m\u001b[0m\u001b[1;33m\u001b[0m\u001b[0m\n\u001b[1;32m-> 3227\u001b[1;33m         \u001b[0mfp\u001b[0m \u001b[1;33m=\u001b[0m \u001b[0mbuiltins\u001b[0m\u001b[1;33m.\u001b[0m\u001b[0mopen\u001b[0m\u001b[1;33m(\u001b[0m\u001b[0mfilename\u001b[0m\u001b[1;33m,\u001b[0m \u001b[1;34m\"rb\"\u001b[0m\u001b[1;33m)\u001b[0m\u001b[1;33m\u001b[0m\u001b[1;33m\u001b[0m\u001b[0m\n\u001b[0m\u001b[0;32m   3228\u001b[0m         \u001b[0mexclusive_fp\u001b[0m \u001b[1;33m=\u001b[0m \u001b[1;32mTrue\u001b[0m\u001b[1;33m\u001b[0m\u001b[1;33m\u001b[0m\u001b[0m\n\u001b[0;32m   3229\u001b[0m \u001b[1;33m\u001b[0m\u001b[0m\n",
      "\u001b[1;31mKeyboardInterrupt\u001b[0m: "
     ]
    }
   ],
   "source": [
    "n_total_steps = len(train_loader)\n",
    "best_loss = np.inf\n",
    "\n",
    "for epoch in range(num_epochs):\n",
    "    running_loss = 0.0\n",
    "    correct = 0\n",
    "    total = 0\n",
    "    \n",
    "    for i, (images, labels) in enumerate(train_loader):\n",
    "        # original shape: [32,3,64,64] = 32,3,1024\n",
    "        # input_layer: 3 input channels, 6 output channels, 5 kernel size\n",
    "        \n",
    "        images = images.to(device)\n",
    "        labels = labels.to(device)\n",
    "        \n",
    "        \n",
    "        # forward pass\n",
    "        output = model(images)\n",
    "        loss = criterion(output, labels)\n",
    "        \n",
    "        # backward pass and optimize\n",
    "        optimizer.zero_grad()\n",
    "        loss.backward()\n",
    "        optimizer.step()\n",
    "\n",
    "        # Accumulate loss\n",
    "        running_loss += loss.item()\n",
    "        \n",
    "        # # Calculate accuracy\n",
    "        # _, predicted = torch.max(output.data, 1)\n",
    "        # total += labels.size(0)\n",
    "        # correct += (predicted == labels).sum().item()\n",
    "        \n",
    "        # Log the loss to TensorBoard\n",
    "        #tb_writer.add_scalar('Training Loss', loss.item(), epoch * n_total_steps + i)\n",
    "    \n",
    "        if i == n_total_steps//2:\n",
    "            print(f'Epoch [{epoch+1}/{num_epochs}], Step [{i+1}/{n_total_steps}], Loss: {loss.item()}')\n",
    "            # Save the model if the current val_loss is the lowest\n",
    "        if loss.item() < best_loss:\n",
    "            best_loss = loss.item()\n",
    "            torch.save(model.state_dict(), 'mal_model.pth')\n",
    "        \n",
    "    # Calculate and log average loss and accuracy for the epoch\n",
    "    epoch_loss = running_loss / n_total_steps\n",
    "    #epoch_accuracy = 100 * correct / total\n",
    "    #tb_writer.add_scalar('Epoch Loss', epoch_loss, epoch)\n",
    "    #tb_writer.add_scalar('Epoch Accuracy', epoch_accuracy, epoch)\n",
    "            \n",
    "print('Finished Training')\n",
    "#tb_writer.close()"
   ]
  },
  {
   "cell_type": "code",
   "execution_count": 38,
   "metadata": {},
   "outputs": [
    {
     "name": "stdout",
     "output_type": "stream",
     "text": [
      "['അ', 'ആ', 'ഇ', 'ഉ', 'എ', 'ഏ', 'ഒ', 'ക', 'ഖ', 'ഗ', 'ഘ', 'ങ', 'ച', 'ഛ', 'ജ', 'ഝ', 'ഞ', 'ട', 'ഠ', 'ഡ', 'ഢ', 'ണ', 'ത', 'ഥ', 'ദ', 'ധ', 'ന', 'പ', 'ഫ', 'ബ', 'ഭ', 'മ', 'യ', 'ര', 'റ', 'ല', 'ള', 'ഴ', 'വ', 'ശ', 'ഷ', 'സ', 'ഹ']\n"
     ]
    }
   ],
   "source": [
    "classes = [i for i in os.listdir(\"rgb_data\")]\n",
    "print(classes)"
   ]
  },
  {
   "cell_type": "code",
   "execution_count": null,
   "metadata": {},
   "outputs": [],
   "source": [
    "with torch.no_grad():\n",
    "    n_samples = 0\n",
    "    n_correct = 0\n",
    "    n_class_correct = [0 for i in range(48)]  # 48 classes\n",
    "    n_class_samples = [0 for i in range(48)]  # 48 classes\n",
    "\n",
    "    for images, labels in test_loader:\n",
    "        \n",
    "        images = images.to(device)\n",
    "        labels = labels.to(device)\n",
    "        \n",
    "        outputs = model(images)\n",
    "        \n",
    "        _, predicted = torch.max(outputs, 1)\n",
    "        n_samples += labels.size(0)\n",
    "        n_correct += (predicted == labels).sum().item()\n",
    "\n",
    "        for i in range(len(labels)):\n",
    "            label = labels[i].item()\n",
    "            pred = predicted[i].item()\n",
    "            if label == pred:\n",
    "                n_class_correct[label] += 1\n",
    "            n_class_samples[label] += 1\n",
    "\n",
    "    acc = 100.0 * n_correct / n_samples\n",
    "    print(f'Accuracy of the network: {acc:.2f} %')\n",
    "    tb_writer.add_scalar('Accuracy/Overall', acc)\n",
    "\n",
    "    for i in range(48):  # Iterate over the range of the number of classes\n",
    "        if n_class_samples[i] > 0:\n",
    "            class_acc = 100.0 * n_class_correct[i] / n_class_samples[i]\n",
    "            print(f'Accuracy of {classes[i]}: {class_acc:.2f} %')\n",
    "            tb_writer.add_scalar(f'Accuracy/{classes[i]}', class_acc)\n",
    "        else:\n",
    "            print(f'Accuracy of {classes[i]}: N/A (no samples)')\n",
    "\n",
    "tb_writer.close()"
   ]
  },
  {
   "cell_type": "markdown",
   "metadata": {},
   "source": [
    "### Testing one one new prediction"
   ]
  },
  {
   "cell_type": "code",
   "execution_count": 42,
   "metadata": {},
   "outputs": [
    {
     "data": {
      "text/html": [
       "<div>\n",
       "<style scoped>\n",
       "    .dataframe tbody tr th:only-of-type {\n",
       "        vertical-align: middle;\n",
       "    }\n",
       "\n",
       "    .dataframe tbody tr th {\n",
       "        vertical-align: top;\n",
       "    }\n",
       "\n",
       "    .dataframe thead th {\n",
       "        text-align: right;\n",
       "    }\n",
       "</style>\n",
       "<table border=\"1\" class=\"dataframe\">\n",
       "  <thead>\n",
       "    <tr style=\"text-align: right;\">\n",
       "      <th></th>\n",
       "      <th>image</th>\n",
       "      <th>label</th>\n",
       "    </tr>\n",
       "  </thead>\n",
       "  <tbody>\n",
       "    <tr>\n",
       "      <th>0</th>\n",
       "      <td>അ/100.png</td>\n",
       "      <td>0</td>\n",
       "    </tr>\n",
       "    <tr>\n",
       "      <th>1</th>\n",
       "      <td>അ/101.png</td>\n",
       "      <td>0</td>\n",
       "    </tr>\n",
       "    <tr>\n",
       "      <th>2</th>\n",
       "      <td>അ/102.png</td>\n",
       "      <td>0</td>\n",
       "    </tr>\n",
       "    <tr>\n",
       "      <th>3</th>\n",
       "      <td>അ/103.png</td>\n",
       "      <td>0</td>\n",
       "    </tr>\n",
       "    <tr>\n",
       "      <th>4</th>\n",
       "      <td>അ/104.png</td>\n",
       "      <td>0</td>\n",
       "    </tr>\n",
       "  </tbody>\n",
       "</table>\n",
       "</div>"
      ],
      "text/plain": [
       "       image  label\n",
       "0  അ/100.png      0\n",
       "1  അ/101.png      0\n",
       "2  അ/102.png      0\n",
       "3  അ/103.png      0\n",
       "4  അ/104.png      0"
      ]
     },
     "execution_count": 42,
     "metadata": {},
     "output_type": "execute_result"
    }
   ],
   "source": [
    "import pandas as pd\n",
    "df =pd.read_csv(\"labels.csv\")\n",
    "df.rename(columns={'Image Name': 'image', 'Class Label': 'label'}, inplace=True)\n",
    "df.head()"
   ]
  },
  {
   "cell_type": "code",
   "execution_count": null,
   "metadata": {},
   "outputs": [],
   "source": [
    "# Load the state dictionary\n",
    "model.load_state_dict(torch.load('mal_model.pth', map_location=torch.device('cpu')))\n",
    "model.eval()  # Set the model to evaluation mode\n",
    "\n",
    "unique_value = 'character_3333/3.png'\n",
    "\n",
    "# Print the row where 'image' column has the unique value\n",
    "row = df.loc[df['image'] == unique_value]\n",
    "print(row)\n",
    "\n",
    "# Load and transform the image\n",
    "image = Image.open('rgb_data/character_3333/3.png')\n",
    "transformed_image = raw_transform(image)\n",
    "transformed_image = transformed_image.unsqueeze(0)  # Add a batch dimension\n",
    "\n",
    "# Pass the input through the model\n",
    "with torch.no_grad():\n",
    "    output = model(transformed_image)\n",
    "    _, predicted = torch.max(output, 1)\n",
    "    print(f\"Predicted class: {predicted.item()}\")"
   ]
  },
  {
   "cell_type": "code",
   "execution_count": null,
   "metadata": {},
   "outputs": [],
   "source": [
    "# Load the state dictionary\n",
    "model.load_state_dict(torch.load('mal_model.pth', map_location=torch.device('cpu')))\n",
    "model.eval()  # Set the model to evaluation mode\n",
    "\n",
    "unique_value = 'character_3375/3.png'\n",
    "\n",
    "# Print the row where 'image' column has the unique value\n",
    "row = df.loc[df['image'] == unique_value]\n",
    "print(row)\n",
    "\n",
    "# Load and transform the image\n",
    "image = Image.open('rgb_data/character_3375/3.png')\n",
    "transformed_image = raw_transform(image)\n",
    "transformed_image = transformed_image.unsqueeze(0)  # Add a batch dimension\n",
    "\n",
    "# Pass the input through the model\n",
    "with torch.no_grad():\n",
    "    output = model(transformed_image)\n",
    "    _, predicted = torch.max(output, 1)\n",
    "    print(f\"Predicted class: {predicted.item()}\")"
   ]
  },
  {
   "cell_type": "code",
   "execution_count": null,
   "metadata": {},
   "outputs": [],
   "source": [
    "# Load the state dictionary\n",
    "model.load_state_dict(torch.load('mal_model.pth', map_location=torch.device('cpu')))\n",
    "model.eval()  # Set the model to evaluation mode\n",
    "\n",
    "unique_value = 'character_3374/8.png'\n",
    "\n",
    "# Print the row where 'image' column has the unique value\n",
    "row = df.loc[df['image'] == unique_value]\n",
    "print(row)\n",
    "\n",
    "# Load and transform the image\n",
    "image = Image.open('rgb_data/character_3374/8.png')\n",
    "transformed_image = raw_transform(image)\n",
    "transformed_image = transformed_image.unsqueeze(0)  # Add a batch dimension\n",
    "\n",
    "# Pass the input through the model\n",
    "with torch.no_grad():\n",
    "    output = model(transformed_image)\n",
    "    _, predicted = torch.max(output, 1)\n",
    "    print(f\"Predicted class: {predicted.item()}\")"
   ]
  },
  {
   "cell_type": "markdown",
   "metadata": {},
   "source": [
    "### Testing on a new example that was drawn on paint"
   ]
  },
  {
   "cell_type": "code",
   "execution_count": null,
   "metadata": {},
   "outputs": [],
   "source": [
    "# Load the image\n",
    "image_path = 'diya_maaaaaaaaaaaa.png'\n",
    "image = Image.open(image_path)\n",
    "\n",
    "# Display the image\n",
    "plt.imshow(image)\n",
    "plt.axis('off')  # Hide the axis\n",
    "plt.show()"
   ]
  },
  {
   "cell_type": "code",
   "execution_count": null,
   "metadata": {},
   "outputs": [],
   "source": [
    "transformed_image = raw_transform(image)\n",
    "# displaying the transformed image\n",
    "plt.imshow(transformed_image.permute(1, 2, 0).numpy().clip(0,1))\n",
    "plt.axis(\"off\")\n",
    "plt.show()"
   ]
  },
  {
   "cell_type": "code",
   "execution_count": null,
   "metadata": {},
   "outputs": [],
   "source": [
    "# Load the state dictionary\n",
    "model.load_state_dict(torch.load('mal_model.pth', map_location=torch.device('cpu')))\n",
    "model.eval()  # Set the model to evaluation mode\n",
    "\n",
    "\n",
    "# Load and transform the image\n",
    "image = Image.open(image_path)\n",
    "transformed_image = raw_transform(image)\n",
    "transformed_image = transformed_image.unsqueeze(0)  # Add a batch dimension\n",
    "\n",
    "# Pass the input through the model\n",
    "with torch.no_grad():\n",
    "    output = model(transformed_image)\n",
    "    _, predicted = torch.max(output, 1)\n",
    "    print(f\"Predicted class: {predicted.item()}\")"
   ]
  },
  {
   "cell_type": "code",
   "execution_count": null,
   "metadata": {},
   "outputs": [],
   "source": [
    "# Load the state dictionary\n",
    "model.load_state_dict(torch.load('mal_model.pth', map_location=torch.device('cpu')))\n",
    "model.eval()  # Set the model to evaluation mode\n",
    "\n",
    "image_path = \"diya_ingaaaaaaaaaaaaaaaaa.png\"\n",
    "\n",
    "# Load and transform the image\n",
    "image = Image.open(image_path)\n",
    "transformed_image = raw_transform(image)\n",
    "transformed_image = transformed_image.unsqueeze(0)  # Add a batch dimension\n",
    "\n",
    "# Pass the input through the model\n",
    "with torch.no_grad():\n",
    "    output = model(transformed_image)\n",
    "    _, predicted = torch.max(output, 1)\n",
    "    print(f\"Predicted class: {predicted.item()}\")\n",
    "df[df['label'] == predicted.item()]\n"
   ]
  },
  {
   "cell_type": "code",
   "execution_count": null,
   "metadata": {},
   "outputs": [],
   "source": [
    "# Load the state dictionary\n",
    "model.load_state_dict(torch.load('mal_model.pth', map_location=torch.device('cpu')))\n",
    "model.eval()  # Set the model to evaluation mode\n",
    "\n",
    "image_path = \"bhaaaaaaaaaaaaaaa.png\"\n",
    "\n",
    "# Load and transform the image\n",
    "image = Image.open(image_path)\n",
    "transformed_image = raw_transform(image)\n",
    "transformed_image = transformed_image.unsqueeze(0)  # Add a batch dimension\n",
    "\n",
    "# Pass the input through the model\n",
    "with torch.no_grad():\n",
    "    output = model(transformed_image)\n",
    "    _, predicted = torch.max(output, 1)\n",
    "    print(f\"Predicted class: {predicted.item()}\")\n",
    "df[df['label'] == predicted.item()]\n"
   ]
  },
  {
   "cell_type": "code",
   "execution_count": null,
   "metadata": {},
   "outputs": [],
   "source": [
    "# Load the state dictionary\n",
    "model.load_state_dict(torch.load('mal_model.pth', map_location=torch.device('cpu')))\n",
    "model.eval()  # Set the model to evaluation mode\n",
    "\n",
    "image_path = \"diya_nnnnnnnnnnnnnn.png\"\n",
    "\n",
    "# Load and transform the image\n",
    "image = Image.open(image_path)\n",
    "transformed_image = raw_transform(image)\n",
    "transformed_image = transformed_image.unsqueeze(0)  # Add a batch dimension\n",
    "\n",
    "# Pass the input through the model\n",
    "with torch.no_grad():\n",
    "    output = model(transformed_image)\n",
    "    _, predicted = torch.max(output, 1)\n",
    "    print(f\"Predicted class: {predicted.item()}\")\n",
    "df[df['label'] == predicted.item()]\n"
   ]
  },
  {
   "cell_type": "code",
   "execution_count": null,
   "metadata": {},
   "outputs": [],
   "source": [
    "# Load the state dictionary\n",
    "model.load_state_dict(torch.load('mal_model.pth', map_location=torch.device('cpu')))\n",
    "model.eval()  # Set the model to evaluation mode\n",
    "\n",
    "image_path = \"diya_paaaaaaaaaaaaaaaaaaaaaaaaaaaaaa.png\"\n",
    "\n",
    "# Load and transform the image\n",
    "image = Image.open(image_path)\n",
    "transformed_image = raw_transform(image)\n",
    "transformed_image = transformed_image.unsqueeze(0)  # Add a batch dimension\n",
    "\n",
    "# Pass the input through the model\n",
    "with torch.no_grad():\n",
    "    output = model(transformed_image)\n",
    "    _, predicted = torch.max(output, 1)\n",
    "    print(f\"Predicted class: {predicted.item()}\")\n",
    "df[df['label'] == predicted.item()]\n"
   ]
  },
  {
   "cell_type": "code",
   "execution_count": null,
   "metadata": {},
   "outputs": [],
   "source": [
    "# Load the state dictionary\n",
    "model.load_state_dict(torch.load('mal_model.pth', map_location=torch.device('cpu')))\n",
    "model.eval()  # Set the model to evaluation mode\n",
    "\n",
    "image_path = \"diya_vaaaaaaaaaaaaaaaaaaaaaaaaaaaaaa.png\"\n",
    "\n",
    "# Load and transform the image\n",
    "image = Image.open(image_path)\n",
    "transformed_image = raw_transform(image)\n",
    "transformed_image = transformed_image.unsqueeze(0)  # Add a batch dimension\n",
    "\n",
    "# Pass the input through the model\n",
    "with torch.no_grad():\n",
    "    output = model(transformed_image)\n",
    "    _, predicted = torch.max(output, 1)\n",
    "    print(f\"Predicted class: {predicted.item()}\")\n",
    "df[df['label'] == predicted.item()]\n"
   ]
  },
  {
   "cell_type": "code",
   "execution_count": null,
   "metadata": {},
   "outputs": [],
   "source": [
    "# Load the state dictionary\n",
    "model.load_state_dict(torch.load('mal_model.pth', map_location=torch.device('cpu')))\n",
    "model.eval()  # Set the model to evaluation mode\n",
    "\n",
    "image_path = \"raaaaaaaaaaaaaaaaaaaaaaaaaaaaaaaaaaaaaa.png\"\n",
    "\n",
    "# Load and transform the image\n",
    "image = Image.open(image_path)\n",
    "transformed_image = raw_transform(image)\n",
    "transformed_image = transformed_image.unsqueeze(0)  # Add a batch dimension\n",
    "\n",
    "# Pass the input through the model\n",
    "with torch.no_grad():\n",
    "    output = model(transformed_image)\n",
    "    _, predicted = torch.max(output, 1)\n",
    "    print(f\"Predicted class: {predicted.item()}\")\n",
    "df[df['label'] == predicted.item()]\n"
   ]
  }
 ],
 "metadata": {
  "kernelspec": {
   "display_name": "malenv",
   "language": "python",
   "name": "python3"
  },
  "language_info": {
   "codemirror_mode": {
    "name": "ipython",
    "version": 3
   },
   "file_extension": ".py",
   "mimetype": "text/x-python",
   "name": "python",
   "nbconvert_exporter": "python",
   "pygments_lexer": "ipython3",
   "version": "3.7.12"
  }
 },
 "nbformat": 4,
 "nbformat_minor": 2
}
