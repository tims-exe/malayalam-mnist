{
 "cells": [
  {
   "cell_type": "markdown",
   "metadata": {},
   "source": [
    "# To create a label.csv file that will store all image paths with its respective label next to it"
   ]
  },
  {
   "cell_type": "code",
   "execution_count": 2,
   "metadata": {},
   "outputs": [],
   "source": [
    "import os"
   ]
  },
  {
   "cell_type": "markdown",
   "metadata": {},
   "source": [
    "### Creating a dictionary with image path as key and class as value"
   ]
  },
  {
   "cell_type": "code",
   "execution_count": 7,
   "metadata": {},
   "outputs": [
    {
     "name": "stdout",
     "output_type": "stream",
     "text": [
      "{'aksharam_data/അ': 0, 'aksharam_data/ആ': 1, 'aksharam_data/ഇ': 2, 'aksharam_data/ഉ': 3, 'aksharam_data/ഋ': 4, 'aksharam_data/എ': 5, 'aksharam_data/ഏ': 6, 'aksharam_data/ഒ': 7, 'aksharam_data/ക': 8, 'aksharam_data/ഖ': 9, 'aksharam_data/ഗ': 10, 'aksharam_data/ഘ': 11, 'aksharam_data/ങ': 12, 'aksharam_data/ച': 13, 'aksharam_data/ഛ': 14, 'aksharam_data/ജ': 15, 'aksharam_data/ഝ': 16, 'aksharam_data/ഞ': 17, 'aksharam_data/ട': 18, 'aksharam_data/ഠ': 19, 'aksharam_data/ഡ': 20, 'aksharam_data/ഢ': 21, 'aksharam_data/ണ': 22, 'aksharam_data/ത': 23, 'aksharam_data/ഥ': 24, 'aksharam_data/ദ': 25, 'aksharam_data/ധ': 26, 'aksharam_data/ന': 27, 'aksharam_data/പ': 28, 'aksharam_data/ഫ': 29, 'aksharam_data/ബ': 30, 'aksharam_data/ഭ': 31, 'aksharam_data/മ': 32, 'aksharam_data/യ': 33, 'aksharam_data/ര': 34, 'aksharam_data/റ': 35, 'aksharam_data/ല': 36, 'aksharam_data/ള': 37, 'aksharam_data/ഴ': 38, 'aksharam_data/വ': 39, 'aksharam_data/ശ': 40, 'aksharam_data/ഷ': 41, 'aksharam_data/സ': 42, 'aksharam_data/ഹ': 43, 'aksharam_data/൯': 44, 'aksharam_data/ൺ': 45, 'aksharam_data/ർ': 46, 'aksharam_data/ൽ': 47, 'aksharam_data/ൾ': 48}\n"
     ]
    }
   ],
   "source": [
    "data_dir = 'aksharam_data'  # Path to the root data directory containing subfolders\n",
    "letter_dict = {\"aksharam_data/\"+folder: idx for idx, folder in enumerate(os.listdir(data_dir))}\n",
    "print(letter_dict)"
   ]
  },
  {
   "cell_type": "code",
   "execution_count": 12,
   "metadata": {},
   "outputs": [
    {
     "name": "stdout",
     "output_type": "stream",
     "text": [
      "{'symbol_data/0': 0, 'symbol_data/1': 1, 'symbol_data/10': 2, 'symbol_data/2': 3, 'symbol_data/3': 4, 'symbol_data/4': 5, 'symbol_data/5': 6, 'symbol_data/6': 7, 'symbol_data/7': 8, 'symbol_data/8': 9, 'symbol_data/9': 10}\n"
     ]
    }
   ],
   "source": [
    "data_dir1 = 'symbol_data'  # Path to the root data directory containing subfolders\n",
    "letter_dict1 = {\"symbol_data/\"+folder: idx for idx, folder in enumerate(os.listdir(data_dir1))}\n",
    "print(letter_dict1)"
   ]
  },
  {
   "cell_type": "code",
   "execution_count": 8,
   "metadata": {},
   "outputs": [
    {
     "name": "stdout",
     "output_type": "stream",
     "text": [
      "Image: അ/100.png, Label: 0\n",
      "Image: അ/101.png, Label: 0\n",
      "Image: അ/102.png, Label: 0\n",
      "Image: അ/103.png, Label: 0\n",
      "Image: അ/104.png, Label: 0\n",
      "Image: അ/105.png, Label: 0\n",
      "Image: അ/106.png, Label: 0\n",
      "Image: അ/107.png, Label: 0\n",
      "Image: അ/108.png, Label: 0\n",
      "Image: അ/109.png, Label: 0\n",
      "\n",
      "Total images: 22538\n"
     ]
    }
   ],
   "source": [
    "# creating data path\n",
    "root_dir = \"aksharam_data\"\n",
    "\n",
    "# Dictionary to store image names and labels\n",
    "image_label_dict = {}\n",
    "\n",
    "# Iterate through all subdirectories and files\n",
    "for label_name in os.listdir(root_dir):\n",
    "    label_path = os.path.join(root_dir, label_name)\n",
    "    \n",
    "    # Ensure it's a directory\n",
    "    if os.path.isdir(label_path):\n",
    "        for file_name in os.listdir(label_path):\n",
    "            # Check if the file is an image (optional: add more extensions if needed)\n",
    "            if file_name.endswith('.png'):\n",
    "                image_label_dict[label_name+\"/\"+file_name] = letter_dict[\"aksharam_data\"+\"/\"+label_name]\n",
    "\n",
    "# Print the dictionary\n",
    "for image, label in list(image_label_dict.items())[:10]:  # Display the first 10 entries\n",
    "    print(f\"Image: {image}, Label: {label}\")\n",
    "\n",
    "# Total number of entries\n",
    "print(f\"\\nTotal images: {len(image_label_dict)}\")\n"
   ]
  },
  {
   "cell_type": "code",
   "execution_count": 16,
   "metadata": {},
   "outputs": [
    {
     "name": "stdout",
     "output_type": "stream",
     "text": [
      "Image: 0/image_0.png, Label: 0\n",
      "Image: 0/image_1.png, Label: 0\n",
      "Image: 0/image_10.png, Label: 0\n",
      "Image: 0/image_100.png, Label: 0\n",
      "Image: 0/image_101.png, Label: 0\n",
      "Image: 0/image_102.png, Label: 0\n",
      "Image: 0/image_103.png, Label: 0\n",
      "Image: 0/image_104.png, Label: 0\n",
      "Image: 0/image_105.png, Label: 0\n",
      "Image: 0/image_106.png, Label: 0\n",
      "\n",
      "Total images: 2975\n"
     ]
    }
   ],
   "source": [
    "# creating data path\n",
    "root_dir1 = \"symbol_data\"\n",
    "\n",
    "# Dictionary to store image names and labels\n",
    "image_label_dict = {}\n",
    "\n",
    "# Iterate through all subdirectories and files\n",
    "for label_name in os.listdir(root_dir1):\n",
    "    label_path = os.path.join(root_dir1, label_name)\n",
    "    \n",
    "    # Ensure it's a directory\n",
    "    if os.path.isdir(label_path):\n",
    "        for file_name in os.listdir(label_path):\n",
    "            # Check if the file is an image (optional: add more extensions if needed)\n",
    "            if file_name.endswith('.png'):\n",
    "                image_label_dict[label_name+\"/\"+file_name] = letter_dict1[\"symbol_data\"+\"/\"+label_name]\n",
    "\n",
    "# Print the dictionary\n",
    "for image, label in list(image_label_dict.items())[:10]:  # Display the first 10 entries\n",
    "    print(f\"Image: {image}, Label: {label}\")\n",
    "\n",
    "# Total number of entries\n",
    "print(f\"\\nTotal images: {len(image_label_dict)}\")\n"
   ]
  },
  {
   "cell_type": "code",
   "execution_count": 10,
   "metadata": {},
   "outputs": [
    {
     "name": "stdout",
     "output_type": "stream",
     "text": [
      "CSV file saved at: labels.csv\n"
     ]
    }
   ],
   "source": [
    "import csv\n",
    "\n",
    "# Path to save the CSV file\n",
    "csv_file_path = \"labels.csv\"\n",
    "\n",
    "# Write the dictionary to a CSV file\n",
    "with open(csv_file_path, mode='w', newline='',encoding='utf-8') as csv_file:\n",
    "    writer = csv.writer(csv_file)\n",
    "    writer.writerow([\"Image Name\", \"Class Label\"])  # Header row\n",
    "    for image_name, class_label in image_label_dict.items():\n",
    "        writer.writerow([image_name, class_label])\n",
    "\n",
    "print(f\"CSV file saved at: {csv_file_path}\")"
   ]
  },
  {
   "cell_type": "code",
   "execution_count": 17,
   "metadata": {},
   "outputs": [
    {
     "name": "stdout",
     "output_type": "stream",
     "text": [
      "CSV file saved at: labels_symbols.csv\n"
     ]
    }
   ],
   "source": [
    "import csv\n",
    "\n",
    "# Path to save the CSV file\n",
    "csv_file_path = \"labels_symbols.csv\"\n",
    "\n",
    "# Write the dictionary to a CSV file\n",
    "with open(csv_file_path, mode='w', newline='') as csv_file:\n",
    "    writer = csv.writer(csv_file)\n",
    "    writer.writerow([\"Image Name\", \"Class Label\"])  # Header row\n",
    "    for image_name, class_label in image_label_dict.items():\n",
    "        writer.writerow([image_name, class_label])\n",
    "\n",
    "print(f\"CSV file saved at: {csv_file_path}\")"
   ]
  },
  {
   "cell_type": "code",
   "execution_count": null,
   "metadata": {},
   "outputs": [
    {
     "name": "stdout",
     "output_type": "stream",
     "text": [
      "{'0': 0, '1': 1, '10': 2, '2': 3, '3': 4, '4': 5, '5': 6, '6': 7, '7': 8, '8': 9, '9': 10}\n"
     ]
    }
   ],
   "source": [
    "import os\n",
    "data_dir = 'symbol_data'  # Path to the root data directory containing subfolders\n",
    "label_to_letter_dict = {folder: idx for idx, folder in enumerate(os.listdir(data_dir))}\n",
    "print(label_to_letter_dict)"
   ]
  },
  {
   "cell_type": "code",
   "execution_count": 4,
   "metadata": {},
   "outputs": [
    {
     "name": "stdout",
     "output_type": "stream",
     "text": [
      "{'അ': 0, 'ആ': 1, 'ഇ': 2, 'ഉ': 3, 'ഋ': 4, 'എ': 5, 'ഏ': 6, 'ഒ': 7, 'ക': 8, 'ഖ': 9, 'ഗ': 10, 'ഘ': 11, 'ങ': 12, 'ച': 13, 'ഛ': 14, 'ജ': 15, 'ഝ': 16, 'ഞ': 17, 'ട': 18, 'ഠ': 19, 'ഡ': 20, 'ഢ': 21, 'ണ': 22, 'ത': 23, 'ഥ': 24, 'ദ': 25, 'ധ': 26, 'ന': 27, 'പ': 28, 'ഫ': 29, 'ബ': 30, 'ഭ': 31, 'മ': 32, 'യ': 33, 'ര': 34, 'റ': 35, 'ല': 36, 'ള': 37, 'ഴ': 38, 'വ': 39, 'ശ': 40, 'ഷ': 41, 'സ': 42, 'ഹ': 43, '൯': 44, 'ൺ': 45, 'ർ': 46, 'ൽ': 47, 'ൾ': 48}\n"
     ]
    }
   ],
   "source": [
    "import os\n",
    "data_dir1 = 'aksharam_data'  # Path to the root data directory containing subfolders\n",
    "label_to_letter_dict = {folder: idx for idx, folder in enumerate(os.listdir(data_dir1))}\n",
    "print(label_to_letter_dict)"
   ]
  },
  {
   "cell_type": "code",
   "execution_count": null,
   "metadata": {},
   "outputs": [
    {
     "name": "stdout",
     "output_type": "stream",
     "text": [
      "CSV file saved at: label_2_letter.csv\n"
     ]
    }
   ],
   "source": [
    "import csv\n",
    "\n",
    "# Path to save the CSV file\n",
    "csv_file_path = \"label_2_symbol.csv\"\n",
    "\n",
    "# Write the dictionary to a CSV file\n",
    "with open(csv_file_path, mode='w', newline='', encoding='utf-8') as csv_file:\n",
    "    writer = csv.writer(csv_file)\n",
    "    writer.writerow([\"Image Name\", \"Class Label\"])  # Header row\n",
    "    for letter_name, class_label in label_to_letter_dict.items():\n",
    "        writer.writerow([class_label, letter_name])\n",
    "\n",
    "print(f\"CSV file saved at: {csv_file_path}\")\n"
   ]
  },
  {
   "cell_type": "code",
   "execution_count": 6,
   "metadata": {},
   "outputs": [
    {
     "name": "stdout",
     "output_type": "stream",
     "text": [
      "CSV file saved at: label_2_letter.csv\n"
     ]
    }
   ],
   "source": [
    "import csv\n",
    "\n",
    "# Path to save the CSV file\n",
    "csv_file_path = \"label_2_letter.csv\"\n",
    "\n",
    "# Write the dictionary to a CSV file\n",
    "with open(csv_file_path, mode='w', newline='', encoding='utf-8') as csv_file:\n",
    "    writer = csv.writer(csv_file)\n",
    "    writer.writerow([\"Image Name\", \"Class Label\"])  # Header row\n",
    "    for letter_name, class_label in label_to_letter_dict.items():\n",
    "        writer.writerow([class_label, letter_name])\n",
    "\n",
    "print(f\"CSV file saved at: {csv_file_path}\")\n"
   ]
  },
  {
   "cell_type": "code",
   "execution_count": null,
   "metadata": {},
   "outputs": [],
   "source": []
  }
 ],
 "metadata": {
  "kernelspec": {
   "display_name": "Python 3",
   "language": "python",
   "name": "python3"
  },
  "language_info": {
   "codemirror_mode": {
    "name": "ipython",
    "version": 3
   },
   "file_extension": ".py",
   "mimetype": "text/x-python",
   "name": "python",
   "nbconvert_exporter": "python",
   "pygments_lexer": "ipython3",
   "version": "3.13.0"
  }
 },
 "nbformat": 4,
 "nbformat_minor": 2
}
