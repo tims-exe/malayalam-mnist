{
 "cells": [
  {
   "cell_type": "markdown",
   "metadata": {},
   "source": [
    "# To create a label.csv file that will store all image paths with its respective label next to it"
   ]
  },
  {
   "cell_type": "code",
   "execution_count": 1,
   "metadata": {},
   "outputs": [],
   "source": [
    "import os"
   ]
  },
  {
   "cell_type": "markdown",
   "metadata": {},
   "source": [
    "### Creating a dictionary with image path as key and class as value"
   ]
  },
  {
   "cell_type": "code",
   "execution_count": 4,
   "metadata": {},
   "outputs": [
    {
     "name": "stdout",
     "output_type": "stream",
     "text": [
      "{'aksharam_data/അ': 0, 'aksharam_data/ആ': 1, 'aksharam_data/ഇ': 2, 'aksharam_data/ഉ': 3, 'aksharam_data/ഋ': 4, 'aksharam_data/എ': 5, 'aksharam_data/ഏ': 6, 'aksharam_data/ഒ': 7, 'aksharam_data/ക': 8, 'aksharam_data/ഖ': 9, 'aksharam_data/ഗ': 10, 'aksharam_data/ഘ': 11, 'aksharam_data/ങ': 12, 'aksharam_data/ച': 13, 'aksharam_data/ഛ': 14, 'aksharam_data/ജ': 15, 'aksharam_data/ഝ': 16, 'aksharam_data/ഞ': 17, 'aksharam_data/ട': 18, 'aksharam_data/ഠ': 19, 'aksharam_data/ഡ': 20, 'aksharam_data/ഢ': 21, 'aksharam_data/ണ': 22, 'aksharam_data/ത': 23, 'aksharam_data/ഥ': 24, 'aksharam_data/ദ': 25, 'aksharam_data/ധ': 26, 'aksharam_data/ന': 27, 'aksharam_data/പ': 28, 'aksharam_data/ഫ': 29, 'aksharam_data/ബ': 30, 'aksharam_data/ഭ': 31, 'aksharam_data/മ': 32, 'aksharam_data/യ': 33, 'aksharam_data/ര': 34, 'aksharam_data/റ': 35, 'aksharam_data/ല': 36, 'aksharam_data/ള': 37, 'aksharam_data/ഴ': 38, 'aksharam_data/വ': 39, 'aksharam_data/ശ': 40, 'aksharam_data/ഷ': 41, 'aksharam_data/സ': 42, 'aksharam_data/ഹ': 43, 'aksharam_data/൯': 44, 'aksharam_data/ൺ': 45, 'aksharam_data/ർ': 46, 'aksharam_data/ൽ': 47, 'aksharam_data/ൾ': 48}\n"
     ]
    }
   ],
   "source": [
    "data_dir = 'aksharam_data'  # Path to the root data directory containing subfolders\n",
    "letter_dict = {\"aksharam_data/\"+folder: idx for idx, folder in enumerate(os.listdir(data_dir))}\n",
    "print(letter_dict)"
   ]
  },
  {
   "cell_type": "code",
   "execution_count": 6,
   "metadata": {},
   "outputs": [
    {
     "name": "stdout",
     "output_type": "stream",
     "text": [
      "Image: അ/100.png, Label: 0\n",
      "Image: അ/101.png, Label: 0\n",
      "Image: അ/102.png, Label: 0\n",
      "Image: അ/103.png, Label: 0\n",
      "Image: അ/104.png, Label: 0\n",
      "Image: അ/105.png, Label: 0\n",
      "Image: അ/106.png, Label: 0\n",
      "Image: അ/107.png, Label: 0\n",
      "Image: അ/108.png, Label: 0\n",
      "Image: അ/109.png, Label: 0\n",
      "\n",
      "Total images: 22538\n"
     ]
    }
   ],
   "source": [
    "# creating data path\n",
    "root_dir = \"aksharam_data\"\n",
    "\n",
    "# Dictionary to store image names and labels\n",
    "image_label_dict = {}\n",
    "\n",
    "# Iterate through all subdirectories and files\n",
    "for label_name in os.listdir(root_dir):\n",
    "    label_path = os.path.join(root_dir, label_name)\n",
    "    \n",
    "    # Ensure it's a directory\n",
    "    if os.path.isdir(label_path):\n",
    "        for file_name in os.listdir(label_path):\n",
    "            # Check if the file is an image (optional: add more extensions if needed)\n",
    "            if file_name.endswith('.png'):\n",
    "                image_label_dict[label_name+\"/\"+file_name] = letter_dict[\"aksharam_data\"+\"/\"+label_name]\n",
    "\n",
    "# Print the dictionary\n",
    "for image, label in list(image_label_dict.items())[:10]:  # Display the first 10 entries\n",
    "    print(f\"Image: {image}, Label: {label}\")\n",
    "\n",
    "# Total number of entries\n",
    "print(f\"\\nTotal images: {len(image_label_dict)}\")\n"
   ]
  },
  {
   "cell_type": "code",
   "execution_count": 7,
   "metadata": {},
   "outputs": [
    {
     "name": "stdout",
     "output_type": "stream",
     "text": [
      "CSV file saved at: labels.csv\n"
     ]
    }
   ],
   "source": [
    "import csv\n",
    "\n",
    "# Path to save the CSV file\n",
    "csv_file_path = \"labels.csv\"\n",
    "\n",
    "# Write the dictionary to a CSV file\n",
    "with open(csv_file_path, mode='w', newline='') as csv_file:\n",
    "    writer = csv.writer(csv_file)\n",
    "    writer.writerow([\"Image Name\", \"Class Label\"])  # Header row\n",
    "    for image_name, class_label in image_label_dict.items():\n",
    "        writer.writerow([image_name, class_label])\n",
    "\n",
    "print(f\"CSV file saved at: {csv_file_path}\")"
   ]
  }
 ],
 "metadata": {
  "kernelspec": {
   "display_name": "malenv",
   "language": "python",
   "name": "python3"
  },
  "language_info": {
   "codemirror_mode": {
    "name": "ipython",
    "version": 3
   },
   "file_extension": ".py",
   "mimetype": "text/x-python",
   "name": "python",
   "nbconvert_exporter": "python",
   "pygments_lexer": "ipython3",
   "version": "3.7.12"
  }
 },
 "nbformat": 4,
 "nbformat_minor": 2
}
